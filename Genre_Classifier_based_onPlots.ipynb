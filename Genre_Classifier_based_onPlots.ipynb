{
  "nbformat": 4,
  "nbformat_minor": 0,
  "metadata": {
    "colab": {
      "name": "Genre_Classifier_based_onPlots",
      "provenance": [],
      "collapsed_sections": [],
      "toc_visible": true,
      "include_colab_link": true
    },
    "kernelspec": {
      "name": "python3",
      "display_name": "Python 3"
    }
  },
  "cells": [
    {
      "cell_type": "markdown",
      "metadata": {
        "id": "view-in-github",
        "colab_type": "text"
      },
      "source": [
        "<a href=\"https://colab.research.google.com/github/maruvadaItis/MovieMahal/blob/master/Genre_Classifier_based_onPlots.ipynb\" target=\"_parent\"><img src=\"https://colab.research.google.com/assets/colab-badge.svg\" alt=\"Open In Colab\"/></a>"
      ]
    },
    {
      "cell_type": "code",
      "metadata": {
        "id": "jK1fQ6LKJpSl",
        "colab_type": "code",
        "colab": {}
      },
      "source": [
        "import pandas as pd\n",
        "import numpy as np\n",
        "import matplotlib.pyplot as plt\n",
        "%matplotlib inline\n",
        "import seaborn as sns\n",
        "import re\n",
        "\n",
        "import pickle \n",
        "#import mglearn\n",
        "import time\n",
        "\n",
        "\n",
        "from nltk.tokenize import TweetTokenizer \n",
        "import nltk\n",
        "from nltk import Text\n",
        "from nltk.tokenize import regexp_tokenize\n",
        "from nltk.tokenize import word_tokenize  \n",
        "from nltk.tokenize import sent_tokenize \n",
        "from nltk.corpus import stopwords\n",
        "from nltk.stem import WordNetLemmatizer\n",
        "from nltk.stem import PorterStemmer\n",
        "\n",
        "\n",
        "from sklearn.feature_extraction.text import CountVectorizer\n",
        "from sklearn.feature_extraction.text import TfidfVectorizer\n",
        "from sklearn.linear_model import LogisticRegression \n",
        "from sklearn.naive_bayes import MultinomialNB\n",
        "from sklearn.multiclass import OneVsRestClassifier\n",
        "\n",
        "\n",
        "from sklearn.model_selection import cross_val_score\n",
        "from sklearn.model_selection import train_test_split\n",
        "from sklearn import metrics\n",
        "from sklearn.metrics import classification_report\n",
        "from sklearn.metrics import confusion_matrix\n",
        "from sklearn.model_selection import GridSearchCV\n",
        "from sklearn.pipeline import make_pipeline\n",
        "\n",
        "from sklearn.metrics import accuracy_score\n",
        "from sklearn.svm import LinearSVC\n",
        "\n"
      ],
      "execution_count": 0,
      "outputs": []
    },
    {
      "cell_type": "code",
      "metadata": {
        "id": "wPX7D6bhLA17",
        "colab_type": "code",
        "outputId": "8a547f48-608a-4db3-a0ee-800f6534f007",
        "colab": {
          "base_uri": "https://localhost:8080/",
          "height": 33
        }
      },
      "source": [
        "movies = pd.read_csv('/content/movies.csv', delimiter=',')\n",
        "movies.dataframeName = 'movies.csv'\n",
        "nRow, nCol = movies.shape\n",
        "print(f'There are {nRow} rows and {nCol} columns')"
      ],
      "execution_count": 2,
      "outputs": [
        {
          "output_type": "stream",
          "text": [
            "There are 45466 rows and 4 columns\n"
          ],
          "name": "stdout"
        }
      ]
    },
    {
      "cell_type": "code",
      "metadata": {
        "id": "uE_CW7kdMMwO",
        "colab_type": "code",
        "outputId": "623d137f-08db-40c5-b5df-204b4610a2a2",
        "colab": {
          "base_uri": "https://localhost:8080/",
          "height": 246
        }
      },
      "source": [
        "movies.head()"
      ],
      "execution_count": 3,
      "outputs": [
        {
          "output_type": "execute_result",
          "data": {
            "text/html": [
              "<div>\n",
              "<style scoped>\n",
              "    .dataframe tbody tr th:only-of-type {\n",
              "        vertical-align: middle;\n",
              "    }\n",
              "\n",
              "    .dataframe tbody tr th {\n",
              "        vertical-align: top;\n",
              "    }\n",
              "\n",
              "    .dataframe thead th {\n",
              "        text-align: right;\n",
              "    }\n",
              "</style>\n",
              "<table border=\"1\" class=\"dataframe\">\n",
              "  <thead>\n",
              "    <tr style=\"text-align: right;\">\n",
              "      <th></th>\n",
              "      <th>movieId</th>\n",
              "      <th>Title</th>\n",
              "      <th>Genre</th>\n",
              "      <th>Plot</th>\n",
              "    </tr>\n",
              "  </thead>\n",
              "  <tbody>\n",
              "    <tr>\n",
              "      <th>0</th>\n",
              "      <td>1.0</td>\n",
              "      <td>Toy Story (1995)</td>\n",
              "      <td>Adventure|Animation|Children|Comedy|Fantasy</td>\n",
              "      <td>Led by Woody, Andy's toys live happily in his ...</td>\n",
              "    </tr>\n",
              "    <tr>\n",
              "      <th>1</th>\n",
              "      <td>2.0</td>\n",
              "      <td>Jumanji (1995)</td>\n",
              "      <td>Adventure|Children|Fantasy</td>\n",
              "      <td>When siblings Judy and Peter discover an encha...</td>\n",
              "    </tr>\n",
              "    <tr>\n",
              "      <th>2</th>\n",
              "      <td>3.0</td>\n",
              "      <td>Grumpier Old Men (1995)</td>\n",
              "      <td>Comedy|Romance</td>\n",
              "      <td>A family wedding reignites the ancient feud be...</td>\n",
              "    </tr>\n",
              "    <tr>\n",
              "      <th>3</th>\n",
              "      <td>4.0</td>\n",
              "      <td>Waiting to Exhale (1995)</td>\n",
              "      <td>Comedy|Drama|Romance</td>\n",
              "      <td>Cheated on, mistreated and stepped on, the wom...</td>\n",
              "    </tr>\n",
              "    <tr>\n",
              "      <th>4</th>\n",
              "      <td>5.0</td>\n",
              "      <td>Father of the Bride Part II (1995)</td>\n",
              "      <td>Comedy</td>\n",
              "      <td>Just when George Banks has recovered from his ...</td>\n",
              "    </tr>\n",
              "  </tbody>\n",
              "</table>\n",
              "</div>"
            ],
            "text/plain": [
              "   movieId  ...                                               Plot\n",
              "0      1.0  ...  Led by Woody, Andy's toys live happily in his ...\n",
              "1      2.0  ...  When siblings Judy and Peter discover an encha...\n",
              "2      3.0  ...  A family wedding reignites the ancient feud be...\n",
              "3      4.0  ...  Cheated on, mistreated and stepped on, the wom...\n",
              "4      5.0  ...  Just when George Banks has recovered from his ...\n",
              "\n",
              "[5 rows x 4 columns]"
            ]
          },
          "metadata": {
            "tags": []
          },
          "execution_count": 3
        }
      ]
    },
    {
      "cell_type": "code",
      "metadata": {
        "id": "GU0hdElt9-Wa",
        "colab_type": "code",
        "outputId": "8f5a023a-1733-4f5b-b87f-bda3b2f54e10",
        "colab": {
          "base_uri": "https://localhost:8080/",
          "height": 33
        }
      },
      "source": [
        "movies['Count']=1\n",
        "movies[['Genre','Count']].groupby(['Genre'], as_index=False).count().shape[0]"
      ],
      "execution_count": 4,
      "outputs": [
        {
          "output_type": "execute_result",
          "data": {
            "text/plain": [
              "1342"
            ]
          },
          "metadata": {
            "tags": []
          },
          "execution_count": 4
        }
      ]
    },
    {
      "cell_type": "code",
      "metadata": {
        "id": "0YNdQvkdMYmy",
        "colab_type": "code",
        "colab": {}
      },
      "source": [
        "movies['RightGenre'] =movies['Genre'] \n",
        "movies['RightGenre']=movies['RightGenre'].str.strip()\n",
        "movies['RightGenre']=movies['RightGenre'].str.replace(' - ', '|')\n",
        "movies['RightGenre']=movies['RightGenre'].str.replace(' / ', '|')\n",
        "movies['RightGenre']=movies['RightGenre'].str.replace('/', '|')\n",
        "movies['RightGenre']=movies['RightGenre'].str.replace(' & ', '|')\n",
        "movies['RightGenre']=movies['RightGenre'].str.replace(', ', '|')\n",
        "movies['RightGenre']=movies['RightGenre'].str.replace('; ', '|')\n",
        "movies['RightGenre']=movies['RightGenre'].str.replace(' ','|')\n",
        "movies['RightGenre']=movies['RightGenre'].str.replace(',','|')\n",
        "movies['RightGenre']=movies['RightGenre'].str.replace('-','')\n"
      ],
      "execution_count": 0,
      "outputs": []
    },
    {
      "cell_type": "code",
      "metadata": {
        "id": "DqeGMk_YMlHL",
        "colab_type": "code",
        "outputId": "a6797181-df49-410c-86dc-64dcd0c3af75",
        "colab": {
          "base_uri": "https://localhost:8080/",
          "height": 33
        }
      },
      "source": [
        "\n",
        "moviesGenre = movies[['RightGenre','Count']].groupby(['RightGenre']).count()\n",
        "moviesGenre.to_csv('RightGenre.csv',sep=',')\n",
        "movies[['RightGenre','Count']].groupby(['RightGenre'], as_index=False).count().shape[0]"
      ],
      "execution_count": 6,
      "outputs": [
        {
          "output_type": "execute_result",
          "data": {
            "text/plain": [
              "1342"
            ]
          },
          "metadata": {
            "tags": []
          },
          "execution_count": 6
        }
      ]
    },
    {
      "cell_type": "code",
      "metadata": {
        "id": "3Qq3WDzeMpD0",
        "colab_type": "code",
        "outputId": "72888a66-07ef-4a93-fdb2-2db1ea90184e",
        "colab": {
          "base_uri": "https://localhost:8080/",
          "height": 345
        }
      },
      "source": [
        "\n",
        "movies[['RightGenre','Count']].groupby(['RightGenre'],as_index=False).count().sort_values(['Count'], ascending=False).head(10)"
      ],
      "execution_count": 7,
      "outputs": [
        {
          "output_type": "execute_result",
          "data": {
            "text/html": [
              "<div>\n",
              "<style scoped>\n",
              "    .dataframe tbody tr th:only-of-type {\n",
              "        vertical-align: middle;\n",
              "    }\n",
              "\n",
              "    .dataframe tbody tr th {\n",
              "        vertical-align: top;\n",
              "    }\n",
              "\n",
              "    .dataframe thead th {\n",
              "        text-align: right;\n",
              "    }\n",
              "</style>\n",
              "<table border=\"1\" class=\"dataframe\">\n",
              "  <thead>\n",
              "    <tr style=\"text-align: right;\">\n",
              "      <th></th>\n",
              "      <th>RightGenre</th>\n",
              "      <th>Count</th>\n",
              "    </tr>\n",
              "  </thead>\n",
              "  <tbody>\n",
              "    <tr>\n",
              "      <th>1142</th>\n",
              "      <td>Drama</td>\n",
              "      <td>4520</td>\n",
              "    </tr>\n",
              "    <tr>\n",
              "      <th>893</th>\n",
              "      <td>Comedy</td>\n",
              "      <td>2294</td>\n",
              "    </tr>\n",
              "    <tr>\n",
              "      <th>1119</th>\n",
              "      <td>Documentary</td>\n",
              "      <td>1942</td>\n",
              "    </tr>\n",
              "    <tr>\n",
              "      <th>938</th>\n",
              "      <td>Comedy|Drama</td>\n",
              "      <td>1264</td>\n",
              "    </tr>\n",
              "    <tr>\n",
              "      <th>1222</th>\n",
              "      <td>Drama|Romance</td>\n",
              "      <td>1075</td>\n",
              "    </tr>\n",
              "    <tr>\n",
              "      <th>1028</th>\n",
              "      <td>Comedy|Romance</td>\n",
              "      <td>757</td>\n",
              "    </tr>\n",
              "    <tr>\n",
              "      <th>968</th>\n",
              "      <td>Comedy|Drama|Romance</td>\n",
              "      <td>605</td>\n",
              "    </tr>\n",
              "    <tr>\n",
              "      <th>1280</th>\n",
              "      <td>Horror</td>\n",
              "      <td>565</td>\n",
              "    </tr>\n",
              "    <tr>\n",
              "      <th>1047</th>\n",
              "      <td>Crime|Drama</td>\n",
              "      <td>448</td>\n",
              "    </tr>\n",
              "    <tr>\n",
              "      <th>1236</th>\n",
              "      <td>Drama|Thriller</td>\n",
              "      <td>426</td>\n",
              "    </tr>\n",
              "  </tbody>\n",
              "</table>\n",
              "</div>"
            ],
            "text/plain": [
              "                RightGenre  Count\n",
              "1142                 Drama   4520\n",
              "893                 Comedy   2294\n",
              "1119           Documentary   1942\n",
              "938           Comedy|Drama   1264\n",
              "1222         Drama|Romance   1075\n",
              "1028        Comedy|Romance    757\n",
              "968   Comedy|Drama|Romance    605\n",
              "1280                Horror    565\n",
              "1047           Crime|Drama    448\n",
              "1236        Drama|Thriller    426"
            ]
          },
          "metadata": {
            "tags": []
          },
          "execution_count": 7
        }
      ]
    },
    {
      "cell_type": "code",
      "metadata": {
        "id": "28aDVQg3MpAa",
        "colab_type": "code",
        "colab": {}
      },
      "source": [
        "movies['RightGenre'] = movies['RightGenre'].apply(str)"
      ],
      "execution_count": 0,
      "outputs": []
    },
    {
      "cell_type": "code",
      "metadata": {
        "id": "aJWH5DMdMo99",
        "colab_type": "code",
        "outputId": "aec6e57c-d500-4ac3-c317-a171673a440f",
        "colab": {
          "base_uri": "https://localhost:8080/",
          "height": 33
        }
      },
      "source": [
        "movies['GenreSplit']=movies['RightGenre'].str.split('|')\n",
        "movies['GenreSplit']= movies['GenreSplit'].apply(np.sort).apply(np.unique)\n",
        "movies['GenreSplit'][11]\n",
        "\n"
      ],
      "execution_count": 9,
      "outputs": [
        {
          "output_type": "execute_result",
          "data": {
            "text/plain": [
              "array(['Comedy', 'Horror'], dtype='<U6')"
            ]
          },
          "metadata": {
            "tags": []
          },
          "execution_count": 9
        }
      ]
    },
    {
      "cell_type": "code",
      "metadata": {
        "id": "utzafGqIMo7Q",
        "colab_type": "code",
        "outputId": "564bcd48-8bf0-41c6-9d44-d4621d5798a8",
        "colab": {
          "base_uri": "https://localhost:8080/",
          "height": 50
        }
      },
      "source": [
        "genres_array = np.array([])\n",
        "\n",
        "for i in range(0,movies.shape[0]-1):\n",
        "    genres_array = np.concatenate((genres_array, movies['GenreSplit'][i] ))\n",
        "    \n",
        "genres_array"
      ],
      "execution_count": 10,
      "outputs": [
        {
          "output_type": "execute_result",
          "data": {
            "text/plain": [
              "array(['Adventure', 'Animation', 'Children', ..., 'nan', 'nan', 'nan'],\n",
              "      dtype='<U32')"
            ]
          },
          "metadata": {
            "tags": []
          },
          "execution_count": 10
        }
      ]
    },
    {
      "cell_type": "code",
      "metadata": {
        "id": "snX_Dr7PNA_U",
        "colab_type": "code",
        "outputId": "80e8c9d9-cbe8-4fc5-8ad7-c8f5c16db980",
        "colab": {
          "base_uri": "https://localhost:8080/",
          "height": 345
        }
      },
      "source": [
        "\n",
        "genres = pd.DataFrame({'Genre':genres_array})\n",
        "\n",
        "genres.head(10)"
      ],
      "execution_count": 11,
      "outputs": [
        {
          "output_type": "execute_result",
          "data": {
            "text/html": [
              "<div>\n",
              "<style scoped>\n",
              "    .dataframe tbody tr th:only-of-type {\n",
              "        vertical-align: middle;\n",
              "    }\n",
              "\n",
              "    .dataframe tbody tr th {\n",
              "        vertical-align: top;\n",
              "    }\n",
              "\n",
              "    .dataframe thead th {\n",
              "        text-align: right;\n",
              "    }\n",
              "</style>\n",
              "<table border=\"1\" class=\"dataframe\">\n",
              "  <thead>\n",
              "    <tr style=\"text-align: right;\">\n",
              "      <th></th>\n",
              "      <th>Genre</th>\n",
              "    </tr>\n",
              "  </thead>\n",
              "  <tbody>\n",
              "    <tr>\n",
              "      <th>0</th>\n",
              "      <td>Adventure</td>\n",
              "    </tr>\n",
              "    <tr>\n",
              "      <th>1</th>\n",
              "      <td>Animation</td>\n",
              "    </tr>\n",
              "    <tr>\n",
              "      <th>2</th>\n",
              "      <td>Children</td>\n",
              "    </tr>\n",
              "    <tr>\n",
              "      <th>3</th>\n",
              "      <td>Comedy</td>\n",
              "    </tr>\n",
              "    <tr>\n",
              "      <th>4</th>\n",
              "      <td>Fantasy</td>\n",
              "    </tr>\n",
              "    <tr>\n",
              "      <th>5</th>\n",
              "      <td>Adventure</td>\n",
              "    </tr>\n",
              "    <tr>\n",
              "      <th>6</th>\n",
              "      <td>Children</td>\n",
              "    </tr>\n",
              "    <tr>\n",
              "      <th>7</th>\n",
              "      <td>Fantasy</td>\n",
              "    </tr>\n",
              "    <tr>\n",
              "      <th>8</th>\n",
              "      <td>Comedy</td>\n",
              "    </tr>\n",
              "    <tr>\n",
              "      <th>9</th>\n",
              "      <td>Romance</td>\n",
              "    </tr>\n",
              "  </tbody>\n",
              "</table>\n",
              "</div>"
            ],
            "text/plain": [
              "       Genre\n",
              "0  Adventure\n",
              "1  Animation\n",
              "2   Children\n",
              "3     Comedy\n",
              "4    Fantasy\n",
              "5  Adventure\n",
              "6   Children\n",
              "7    Fantasy\n",
              "8     Comedy\n",
              "9    Romance"
            ]
          },
          "metadata": {
            "tags": []
          },
          "execution_count": 11
        }
      ]
    },
    {
      "cell_type": "code",
      "metadata": {
        "id": "SM4PjS4mNA77",
        "colab_type": "code",
        "outputId": "0fa5a3dc-2ef0-4610-e3f8-c67cafcd0020",
        "colab": {
          "base_uri": "https://localhost:8080/",
          "height": 345
        }
      },
      "source": [
        "genres['Count']=1\n",
        "genres[['Genre','Count']].groupby(['Genre'], as_index=False).sum().sort_values(['Count'], ascending=False).head(10)"
      ],
      "execution_count": 12,
      "outputs": [
        {
          "output_type": "execute_result",
          "data": {
            "text/html": [
              "<div>\n",
              "<style scoped>\n",
              "    .dataframe tbody tr th:only-of-type {\n",
              "        vertical-align: middle;\n",
              "    }\n",
              "\n",
              "    .dataframe tbody tr th {\n",
              "        vertical-align: top;\n",
              "    }\n",
              "\n",
              "    .dataframe thead th {\n",
              "        text-align: right;\n",
              "    }\n",
              "</style>\n",
              "<table border=\"1\" class=\"dataframe\">\n",
              "  <thead>\n",
              "    <tr style=\"text-align: right;\">\n",
              "      <th></th>\n",
              "      <th>Genre</th>\n",
              "      <th>Count</th>\n",
              "    </tr>\n",
              "  </thead>\n",
              "  <tbody>\n",
              "    <tr>\n",
              "      <th>22</th>\n",
              "      <td>nan</td>\n",
              "      <td>18187</td>\n",
              "    </tr>\n",
              "    <tr>\n",
              "      <th>8</th>\n",
              "      <td>Drama</td>\n",
              "      <td>13344</td>\n",
              "    </tr>\n",
              "    <tr>\n",
              "      <th>5</th>\n",
              "      <td>Comedy</td>\n",
              "      <td>8374</td>\n",
              "    </tr>\n",
              "    <tr>\n",
              "      <th>17</th>\n",
              "      <td>Thriller</td>\n",
              "      <td>4178</td>\n",
              "    </tr>\n",
              "    <tr>\n",
              "      <th>15</th>\n",
              "      <td>Romance</td>\n",
              "      <td>4127</td>\n",
              "    </tr>\n",
              "    <tr>\n",
              "      <th>1</th>\n",
              "      <td>Action</td>\n",
              "      <td>3520</td>\n",
              "    </tr>\n",
              "    <tr>\n",
              "      <th>6</th>\n",
              "      <td>Crime</td>\n",
              "      <td>2939</td>\n",
              "    </tr>\n",
              "    <tr>\n",
              "      <th>11</th>\n",
              "      <td>Horror</td>\n",
              "      <td>2611</td>\n",
              "    </tr>\n",
              "    <tr>\n",
              "      <th>7</th>\n",
              "      <td>Documentary</td>\n",
              "      <td>2471</td>\n",
              "    </tr>\n",
              "    <tr>\n",
              "      <th>2</th>\n",
              "      <td>Adventure</td>\n",
              "      <td>2329</td>\n",
              "    </tr>\n",
              "  </tbody>\n",
              "</table>\n",
              "</div>"
            ],
            "text/plain": [
              "          Genre  Count\n",
              "22          nan  18187\n",
              "8         Drama  13344\n",
              "5        Comedy   8374\n",
              "17     Thriller   4178\n",
              "15      Romance   4127\n",
              "1        Action   3520\n",
              "6         Crime   2939\n",
              "11       Horror   2611\n",
              "7   Documentary   2471\n",
              "2     Adventure   2329"
            ]
          },
          "metadata": {
            "tags": []
          },
          "execution_count": 12
        }
      ]
    },
    {
      "cell_type": "code",
      "metadata": {
        "id": "yT3p58iLNA5M",
        "colab_type": "code",
        "outputId": "14a1a9eb-1ed2-4d64-e643-cfc0f3a4c272",
        "colab": {
          "base_uri": "https://localhost:8080/",
          "height": 733
        }
      },
      "source": [
        "genres=genres[['Genre','Count']].groupby(['Genre'], as_index=False).sum().sort_values(['Count'], ascending=False)\n",
        "genres = genres[genres['Genre']!='']\n",
        "genres.head(30)"
      ],
      "execution_count": 13,
      "outputs": [
        {
          "output_type": "execute_result",
          "data": {
            "text/html": [
              "<div>\n",
              "<style scoped>\n",
              "    .dataframe tbody tr th:only-of-type {\n",
              "        vertical-align: middle;\n",
              "    }\n",
              "\n",
              "    .dataframe tbody tr th {\n",
              "        vertical-align: top;\n",
              "    }\n",
              "\n",
              "    .dataframe thead th {\n",
              "        text-align: right;\n",
              "    }\n",
              "</style>\n",
              "<table border=\"1\" class=\"dataframe\">\n",
              "  <thead>\n",
              "    <tr style=\"text-align: right;\">\n",
              "      <th></th>\n",
              "      <th>Genre</th>\n",
              "      <th>Count</th>\n",
              "    </tr>\n",
              "  </thead>\n",
              "  <tbody>\n",
              "    <tr>\n",
              "      <th>22</th>\n",
              "      <td>nan</td>\n",
              "      <td>18187</td>\n",
              "    </tr>\n",
              "    <tr>\n",
              "      <th>8</th>\n",
              "      <td>Drama</td>\n",
              "      <td>13344</td>\n",
              "    </tr>\n",
              "    <tr>\n",
              "      <th>5</th>\n",
              "      <td>Comedy</td>\n",
              "      <td>8374</td>\n",
              "    </tr>\n",
              "    <tr>\n",
              "      <th>17</th>\n",
              "      <td>Thriller</td>\n",
              "      <td>4178</td>\n",
              "    </tr>\n",
              "    <tr>\n",
              "      <th>15</th>\n",
              "      <td>Romance</td>\n",
              "      <td>4127</td>\n",
              "    </tr>\n",
              "    <tr>\n",
              "      <th>1</th>\n",
              "      <td>Action</td>\n",
              "      <td>3520</td>\n",
              "    </tr>\n",
              "    <tr>\n",
              "      <th>6</th>\n",
              "      <td>Crime</td>\n",
              "      <td>2939</td>\n",
              "    </tr>\n",
              "    <tr>\n",
              "      <th>11</th>\n",
              "      <td>Horror</td>\n",
              "      <td>2611</td>\n",
              "    </tr>\n",
              "    <tr>\n",
              "      <th>7</th>\n",
              "      <td>Documentary</td>\n",
              "      <td>2471</td>\n",
              "    </tr>\n",
              "    <tr>\n",
              "      <th>2</th>\n",
              "      <td>Adventure</td>\n",
              "      <td>2329</td>\n",
              "    </tr>\n",
              "    <tr>\n",
              "      <th>16</th>\n",
              "      <td>SciFi</td>\n",
              "      <td>1743</td>\n",
              "    </tr>\n",
              "    <tr>\n",
              "      <th>14</th>\n",
              "      <td>Mystery</td>\n",
              "      <td>1514</td>\n",
              "    </tr>\n",
              "    <tr>\n",
              "      <th>9</th>\n",
              "      <td>Fantasy</td>\n",
              "      <td>1412</td>\n",
              "    </tr>\n",
              "    <tr>\n",
              "      <th>18</th>\n",
              "      <td>War</td>\n",
              "      <td>1194</td>\n",
              "    </tr>\n",
              "    <tr>\n",
              "      <th>4</th>\n",
              "      <td>Children</td>\n",
              "      <td>1139</td>\n",
              "    </tr>\n",
              "    <tr>\n",
              "      <th>13</th>\n",
              "      <td>Musical</td>\n",
              "      <td>1036</td>\n",
              "    </tr>\n",
              "    <tr>\n",
              "      <th>3</th>\n",
              "      <td>Animation</td>\n",
              "      <td>1027</td>\n",
              "    </tr>\n",
              "    <tr>\n",
              "      <th>19</th>\n",
              "      <td>Western</td>\n",
              "      <td>676</td>\n",
              "    </tr>\n",
              "    <tr>\n",
              "      <th>10</th>\n",
              "      <td>FilmNoir</td>\n",
              "      <td>330</td>\n",
              "    </tr>\n",
              "    <tr>\n",
              "      <th>20</th>\n",
              "      <td>genres</td>\n",
              "      <td>246</td>\n",
              "    </tr>\n",
              "    <tr>\n",
              "      <th>21</th>\n",
              "      <td>listed)</td>\n",
              "      <td>246</td>\n",
              "    </tr>\n",
              "    <tr>\n",
              "      <th>0</th>\n",
              "      <td>(no</td>\n",
              "      <td>246</td>\n",
              "    </tr>\n",
              "    <tr>\n",
              "      <th>12</th>\n",
              "      <td>IMAX</td>\n",
              "      <td>196</td>\n",
              "    </tr>\n",
              "  </tbody>\n",
              "</table>\n",
              "</div>"
            ],
            "text/plain": [
              "          Genre  Count\n",
              "22          nan  18187\n",
              "8         Drama  13344\n",
              "5        Comedy   8374\n",
              "17     Thriller   4178\n",
              "15      Romance   4127\n",
              "1        Action   3520\n",
              "6         Crime   2939\n",
              "11       Horror   2611\n",
              "7   Documentary   2471\n",
              "2     Adventure   2329\n",
              "16        SciFi   1743\n",
              "14      Mystery   1514\n",
              "9       Fantasy   1412\n",
              "18          War   1194\n",
              "4      Children   1139\n",
              "13      Musical   1036\n",
              "3     Animation   1027\n",
              "19      Western    676\n",
              "10     FilmNoir    330\n",
              "20       genres    246\n",
              "21      listed)    246\n",
              "0           (no    246\n",
              "12         IMAX    196"
            ]
          },
          "metadata": {
            "tags": []
          },
          "execution_count": 13
        }
      ]
    },
    {
      "cell_type": "code",
      "metadata": {
        "id": "hOUhCWxjNA2s",
        "colab_type": "code",
        "outputId": "b165d6f5-4454-49f1-de2e-4560fad0fb71",
        "colab": {
          "base_uri": "https://localhost:8080/",
          "height": 33
        }
      },
      "source": [
        "TotalCountGenres=sum(genres['Count'])\n",
        "TotalCountGenres"
      ],
      "execution_count": 14,
      "outputs": [
        {
          "output_type": "execute_result",
          "data": {
            "text/plain": [
              "73085"
            ]
          },
          "metadata": {
            "tags": []
          },
          "execution_count": 14
        }
      ]
    },
    {
      "cell_type": "code",
      "metadata": {
        "id": "UVvkhnALNA0O",
        "colab_type": "code",
        "outputId": "0df93ea0-bf7a-4bf2-89a6-c2f2835a0c78",
        "colab": {
          "base_uri": "https://localhost:8080/",
          "height": 644
        }
      },
      "source": [
        "genres['Frequency'] = genres['Count']/TotalCountGenres\n",
        "genres['CumulativeFrequency'] = genres['Frequency'].cumsum()\n",
        "genres.head(20)"
      ],
      "execution_count": 15,
      "outputs": [
        {
          "output_type": "execute_result",
          "data": {
            "text/html": [
              "<div>\n",
              "<style scoped>\n",
              "    .dataframe tbody tr th:only-of-type {\n",
              "        vertical-align: middle;\n",
              "    }\n",
              "\n",
              "    .dataframe tbody tr th {\n",
              "        vertical-align: top;\n",
              "    }\n",
              "\n",
              "    .dataframe thead th {\n",
              "        text-align: right;\n",
              "    }\n",
              "</style>\n",
              "<table border=\"1\" class=\"dataframe\">\n",
              "  <thead>\n",
              "    <tr style=\"text-align: right;\">\n",
              "      <th></th>\n",
              "      <th>Genre</th>\n",
              "      <th>Count</th>\n",
              "      <th>Frequency</th>\n",
              "      <th>CumulativeFrequency</th>\n",
              "    </tr>\n",
              "  </thead>\n",
              "  <tbody>\n",
              "    <tr>\n",
              "      <th>22</th>\n",
              "      <td>nan</td>\n",
              "      <td>18187</td>\n",
              "      <td>0.248847</td>\n",
              "      <td>0.248847</td>\n",
              "    </tr>\n",
              "    <tr>\n",
              "      <th>8</th>\n",
              "      <td>Drama</td>\n",
              "      <td>13344</td>\n",
              "      <td>0.182582</td>\n",
              "      <td>0.431429</td>\n",
              "    </tr>\n",
              "    <tr>\n",
              "      <th>5</th>\n",
              "      <td>Comedy</td>\n",
              "      <td>8374</td>\n",
              "      <td>0.114579</td>\n",
              "      <td>0.546008</td>\n",
              "    </tr>\n",
              "    <tr>\n",
              "      <th>17</th>\n",
              "      <td>Thriller</td>\n",
              "      <td>4178</td>\n",
              "      <td>0.057166</td>\n",
              "      <td>0.603174</td>\n",
              "    </tr>\n",
              "    <tr>\n",
              "      <th>15</th>\n",
              "      <td>Romance</td>\n",
              "      <td>4127</td>\n",
              "      <td>0.056468</td>\n",
              "      <td>0.659643</td>\n",
              "    </tr>\n",
              "    <tr>\n",
              "      <th>1</th>\n",
              "      <td>Action</td>\n",
              "      <td>3520</td>\n",
              "      <td>0.048163</td>\n",
              "      <td>0.707806</td>\n",
              "    </tr>\n",
              "    <tr>\n",
              "      <th>6</th>\n",
              "      <td>Crime</td>\n",
              "      <td>2939</td>\n",
              "      <td>0.040213</td>\n",
              "      <td>0.748019</td>\n",
              "    </tr>\n",
              "    <tr>\n",
              "      <th>11</th>\n",
              "      <td>Horror</td>\n",
              "      <td>2611</td>\n",
              "      <td>0.035726</td>\n",
              "      <td>0.783745</td>\n",
              "    </tr>\n",
              "    <tr>\n",
              "      <th>7</th>\n",
              "      <td>Documentary</td>\n",
              "      <td>2471</td>\n",
              "      <td>0.033810</td>\n",
              "      <td>0.817555</td>\n",
              "    </tr>\n",
              "    <tr>\n",
              "      <th>2</th>\n",
              "      <td>Adventure</td>\n",
              "      <td>2329</td>\n",
              "      <td>0.031867</td>\n",
              "      <td>0.849422</td>\n",
              "    </tr>\n",
              "    <tr>\n",
              "      <th>16</th>\n",
              "      <td>SciFi</td>\n",
              "      <td>1743</td>\n",
              "      <td>0.023849</td>\n",
              "      <td>0.873271</td>\n",
              "    </tr>\n",
              "    <tr>\n",
              "      <th>14</th>\n",
              "      <td>Mystery</td>\n",
              "      <td>1514</td>\n",
              "      <td>0.020716</td>\n",
              "      <td>0.893986</td>\n",
              "    </tr>\n",
              "    <tr>\n",
              "      <th>9</th>\n",
              "      <td>Fantasy</td>\n",
              "      <td>1412</td>\n",
              "      <td>0.019320</td>\n",
              "      <td>0.913306</td>\n",
              "    </tr>\n",
              "    <tr>\n",
              "      <th>18</th>\n",
              "      <td>War</td>\n",
              "      <td>1194</td>\n",
              "      <td>0.016337</td>\n",
              "      <td>0.929644</td>\n",
              "    </tr>\n",
              "    <tr>\n",
              "      <th>4</th>\n",
              "      <td>Children</td>\n",
              "      <td>1139</td>\n",
              "      <td>0.015585</td>\n",
              "      <td>0.945228</td>\n",
              "    </tr>\n",
              "    <tr>\n",
              "      <th>13</th>\n",
              "      <td>Musical</td>\n",
              "      <td>1036</td>\n",
              "      <td>0.014175</td>\n",
              "      <td>0.959403</td>\n",
              "    </tr>\n",
              "    <tr>\n",
              "      <th>3</th>\n",
              "      <td>Animation</td>\n",
              "      <td>1027</td>\n",
              "      <td>0.014052</td>\n",
              "      <td>0.973456</td>\n",
              "    </tr>\n",
              "    <tr>\n",
              "      <th>19</th>\n",
              "      <td>Western</td>\n",
              "      <td>676</td>\n",
              "      <td>0.009250</td>\n",
              "      <td>0.982705</td>\n",
              "    </tr>\n",
              "    <tr>\n",
              "      <th>10</th>\n",
              "      <td>FilmNoir</td>\n",
              "      <td>330</td>\n",
              "      <td>0.004515</td>\n",
              "      <td>0.987220</td>\n",
              "    </tr>\n",
              "    <tr>\n",
              "      <th>20</th>\n",
              "      <td>genres</td>\n",
              "      <td>246</td>\n",
              "      <td>0.003366</td>\n",
              "      <td>0.990586</td>\n",
              "    </tr>\n",
              "  </tbody>\n",
              "</table>\n",
              "</div>"
            ],
            "text/plain": [
              "          Genre  Count  Frequency  CumulativeFrequency\n",
              "22          nan  18187   0.248847             0.248847\n",
              "8         Drama  13344   0.182582             0.431429\n",
              "5        Comedy   8374   0.114579             0.546008\n",
              "17     Thriller   4178   0.057166             0.603174\n",
              "15      Romance   4127   0.056468             0.659643\n",
              "1        Action   3520   0.048163             0.707806\n",
              "6         Crime   2939   0.040213             0.748019\n",
              "11       Horror   2611   0.035726             0.783745\n",
              "7   Documentary   2471   0.033810             0.817555\n",
              "2     Adventure   2329   0.031867             0.849422\n",
              "16        SciFi   1743   0.023849             0.873271\n",
              "14      Mystery   1514   0.020716             0.893986\n",
              "9       Fantasy   1412   0.019320             0.913306\n",
              "18          War   1194   0.016337             0.929644\n",
              "4      Children   1139   0.015585             0.945228\n",
              "13      Musical   1036   0.014175             0.959403\n",
              "3     Animation   1027   0.014052             0.973456\n",
              "19      Western    676   0.009250             0.982705\n",
              "10     FilmNoir    330   0.004515             0.987220\n",
              "20       genres    246   0.003366             0.990586"
            ]
          },
          "metadata": {
            "tags": []
          },
          "execution_count": 15
        }
      ]
    },
    {
      "cell_type": "code",
      "metadata": {
        "id": "9vhGLuwFNAxt",
        "colab_type": "code",
        "outputId": "dce75e59-614a-476d-9758-391d3b979c82",
        "colab": {
          "base_uri": "https://localhost:8080/",
          "height": 84
        }
      },
      "source": [
        "np.array(genres[genres['CumulativeFrequency']<=.985]['Genre'])"
      ],
      "execution_count": 16,
      "outputs": [
        {
          "output_type": "execute_result",
          "data": {
            "text/plain": [
              "array(['nan', 'Drama', 'Comedy', 'Thriller', 'Romance', 'Action', 'Crime',\n",
              "       'Horror', 'Documentary', 'Adventure', 'SciFi', 'Mystery',\n",
              "       'Fantasy', 'War', 'Children', 'Musical', 'Animation', 'Western'],\n",
              "      dtype=object)"
            ]
          },
          "metadata": {
            "tags": []
          },
          "execution_count": 16
        }
      ]
    },
    {
      "cell_type": "code",
      "metadata": {
        "id": "aF8fgM-gMo4m",
        "colab_type": "code",
        "outputId": "7d23e0ce-d0bc-471e-e5c3-ab01450086c5",
        "colab": {
          "base_uri": "https://localhost:8080/",
          "height": 410
        }
      },
      "source": [
        "genres[genres['CumulativeFrequency']<=.985][['Genre','Count']].plot(x='Genre', y='Count', kind='bar', legend=False, grid=True, figsize=(8, 5))\n",
        "plt.title(\"Number of movies per genre\")\n",
        "plt.ylabel('# of Occurrences', fontsize=12)\n",
        "plt.xlabel('Movie genres', fontsize=12)\n",
        "plt.show()"
      ],
      "execution_count": 17,
      "outputs": [
        {
          "output_type": "display_data",
          "data": {
            "image/png": "[encoded data removed]",
            "text/plain": [
              "<Figure size 576x360 with 1 Axes>"
            ]
          },
          "metadata": {
            "tags": []
          }
        }
      ]
    },
    {
      "cell_type": "code",
      "metadata": {
        "id": "S5ht98TnOaGU",
        "colab_type": "code",
        "outputId": "95ad37cd-4e0d-47c9-9883-bd2a6d36159b",
        "colab": {
          "base_uri": "https://localhost:8080/",
          "height": 33
        }
      },
      "source": [
        "mainGenres=np.array(genres[genres['CumulativeFrequency']<=.957]['Genre'])\n",
        "arr1=np.array(['horror', 'romance', 'scifi','and'])\n",
        "arr1[np.in1d(arr1,mainGenres)]"
      ],
      "execution_count": 18,
      "outputs": [
        {
          "output_type": "execute_result",
          "data": {
            "text/plain": [
              "array([], dtype='<U7')"
            ]
          },
          "metadata": {
            "tags": []
          },
          "execution_count": 18
        }
      ]
    },
    {
      "cell_type": "code",
      "metadata": {
        "id": "I3Xfd19SOaCy",
        "colab_type": "code",
        "outputId": "b83995a7-eba3-4ae2-82a3-64bdb4f36210",
        "colab": {
          "base_uri": "https://localhost:8080/",
          "height": 67
        }
      },
      "source": [
        "movies['GenreSplit'][10:12].apply(lambda x: x[np.in1d(x,mainGenres)])"
      ],
      "execution_count": 19,
      "outputs": [
        {
          "output_type": "execute_result",
          "data": {
            "text/plain": [
              "10    [Comedy, Drama, Romance]\n",
              "11            [Comedy, Horror]\n",
              "Name: GenreSplit, dtype: object"
            ]
          },
          "metadata": {
            "tags": []
          },
          "execution_count": 19
        }
      ]
    },
    {
      "cell_type": "code",
      "metadata": {
        "id": "MYX8UFKP6hG4",
        "colab_type": "code",
        "outputId": "d274ea53-6447-4edb-a045-820a749a0655",
        "colab": {
          "base_uri": "https://localhost:8080/",
          "height": 644
        }
      },
      "source": [
        "movies['SplittinMainGenre'] = movies['GenreSplit'].apply(lambda x: x[np.in1d(x,mainGenres)])\n",
        "movies[['SplittinMainGenre','GenreSplit','Genre']][200:220]"
      ],
      "execution_count": 20,
      "outputs": [
        {
          "output_type": "execute_result",
          "data": {
            "text/html": [
              "<div>\n",
              "<style scoped>\n",
              "    .dataframe tbody tr th:only-of-type {\n",
              "        vertical-align: middle;\n",
              "    }\n",
              "\n",
              "    .dataframe tbody tr th {\n",
              "        vertical-align: top;\n",
              "    }\n",
              "\n",
              "    .dataframe thead th {\n",
              "        text-align: right;\n",
              "    }\n",
              "</style>\n",
              "<table border=\"1\" class=\"dataframe\">\n",
              "  <thead>\n",
              "    <tr style=\"text-align: right;\">\n",
              "      <th></th>\n",
              "      <th>SplittinMainGenre</th>\n",
              "      <th>GenreSplit</th>\n",
              "      <th>Genre</th>\n",
              "    </tr>\n",
              "  </thead>\n",
              "  <tbody>\n",
              "    <tr>\n",
              "      <th>200</th>\n",
              "      <td>[Drama, Romance]</td>\n",
              "      <td>[Drama, Romance]</td>\n",
              "      <td>Drama|Romance</td>\n",
              "    </tr>\n",
              "    <tr>\n",
              "      <th>201</th>\n",
              "      <td>[Comedy]</td>\n",
              "      <td>[Comedy]</td>\n",
              "      <td>Comedy</td>\n",
              "    </tr>\n",
              "    <tr>\n",
              "      <th>202</th>\n",
              "      <td>[Action]</td>\n",
              "      <td>[Action]</td>\n",
              "      <td>Action</td>\n",
              "    </tr>\n",
              "    <tr>\n",
              "      <th>203</th>\n",
              "      <td>[Comedy, Drama]</td>\n",
              "      <td>[Comedy, Drama]</td>\n",
              "      <td>Comedy|Drama</td>\n",
              "    </tr>\n",
              "    <tr>\n",
              "      <th>204</th>\n",
              "      <td>[Documentary]</td>\n",
              "      <td>[Documentary]</td>\n",
              "      <td>Documentary</td>\n",
              "    </tr>\n",
              "    <tr>\n",
              "      <th>205</th>\n",
              "      <td>[Drama, Romance]</td>\n",
              "      <td>[Drama, Romance]</td>\n",
              "      <td>Drama|Romance</td>\n",
              "    </tr>\n",
              "    <tr>\n",
              "      <th>206</th>\n",
              "      <td>[Action, Adventure, SciFi]</td>\n",
              "      <td>[Action, Adventure, SciFi]</td>\n",
              "      <td>Action|Adventure|Sci-Fi</td>\n",
              "    </tr>\n",
              "    <tr>\n",
              "      <th>207</th>\n",
              "      <td>[Drama]</td>\n",
              "      <td>[Drama]</td>\n",
              "      <td>Drama</td>\n",
              "    </tr>\n",
              "    <tr>\n",
              "      <th>208</th>\n",
              "      <td>[]</td>\n",
              "      <td>[Western]</td>\n",
              "      <td>Western</td>\n",
              "    </tr>\n",
              "    <tr>\n",
              "      <th>209</th>\n",
              "      <td>[Drama]</td>\n",
              "      <td>[Drama]</td>\n",
              "      <td>Drama</td>\n",
              "    </tr>\n",
              "    <tr>\n",
              "      <th>210</th>\n",
              "      <td>[Adventure, Comedy, Crime, Mystery]</td>\n",
              "      <td>[Adventure, Comedy, Crime, Mystery]</td>\n",
              "      <td>Adventure|Comedy|Crime|Mystery</td>\n",
              "    </tr>\n",
              "    <tr>\n",
              "      <th>211</th>\n",
              "      <td>[Drama]</td>\n",
              "      <td>[Drama]</td>\n",
              "      <td>Drama</td>\n",
              "    </tr>\n",
              "    <tr>\n",
              "      <th>212</th>\n",
              "      <td>[Drama, War]</td>\n",
              "      <td>[Drama, War]</td>\n",
              "      <td>Drama|War</td>\n",
              "    </tr>\n",
              "    <tr>\n",
              "      <th>213</th>\n",
              "      <td>[Drama, Romance]</td>\n",
              "      <td>[Drama, Romance]</td>\n",
              "      <td>Drama|Romance</td>\n",
              "    </tr>\n",
              "    <tr>\n",
              "      <th>214</th>\n",
              "      <td>[Comedy]</td>\n",
              "      <td>[Comedy]</td>\n",
              "      <td>Comedy</td>\n",
              "    </tr>\n",
              "    <tr>\n",
              "      <th>215</th>\n",
              "      <td>[Drama, Thriller]</td>\n",
              "      <td>[Drama, Thriller]</td>\n",
              "      <td>Drama|Thriller</td>\n",
              "    </tr>\n",
              "    <tr>\n",
              "      <th>216</th>\n",
              "      <td>[Comedy, Drama]</td>\n",
              "      <td>[Comedy, Drama]</td>\n",
              "      <td>Comedy|Drama</td>\n",
              "    </tr>\n",
              "    <tr>\n",
              "      <th>217</th>\n",
              "      <td>[Drama]</td>\n",
              "      <td>[Drama]</td>\n",
              "      <td>Drama</td>\n",
              "    </tr>\n",
              "    <tr>\n",
              "      <th>218</th>\n",
              "      <td>[Horror]</td>\n",
              "      <td>[Horror]</td>\n",
              "      <td>Horror</td>\n",
              "    </tr>\n",
              "    <tr>\n",
              "      <th>219</th>\n",
              "      <td>[Drama, Romance]</td>\n",
              "      <td>[Drama, Romance]</td>\n",
              "      <td>Drama|Romance</td>\n",
              "    </tr>\n",
              "  </tbody>\n",
              "</table>\n",
              "</div>"
            ],
            "text/plain": [
              "                       SplittinMainGenre  ...                           Genre\n",
              "200                     [Drama, Romance]  ...                   Drama|Romance\n",
              "201                             [Comedy]  ...                          Comedy\n",
              "202                             [Action]  ...                          Action\n",
              "203                      [Comedy, Drama]  ...                    Comedy|Drama\n",
              "204                        [Documentary]  ...                     Documentary\n",
              "205                     [Drama, Romance]  ...                   Drama|Romance\n",
              "206           [Action, Adventure, SciFi]  ...         Action|Adventure|Sci-Fi\n",
              "207                              [Drama]  ...                           Drama\n",
              "208                                   []  ...                         Western\n",
              "209                              [Drama]  ...                           Drama\n",
              "210  [Adventure, Comedy, Crime, Mystery]  ...  Adventure|Comedy|Crime|Mystery\n",
              "211                              [Drama]  ...                           Drama\n",
              "212                         [Drama, War]  ...                       Drama|War\n",
              "213                     [Drama, Romance]  ...                   Drama|Romance\n",
              "214                             [Comedy]  ...                          Comedy\n",
              "215                    [Drama, Thriller]  ...                  Drama|Thriller\n",
              "216                      [Comedy, Drama]  ...                    Comedy|Drama\n",
              "217                              [Drama]  ...                           Drama\n",
              "218                             [Horror]  ...                          Horror\n",
              "219                     [Drama, Romance]  ...                   Drama|Romance\n",
              "\n",
              "[20 rows x 3 columns]"
            ]
          },
          "metadata": {
            "tags": []
          },
          "execution_count": 20
        }
      ]
    },
    {
      "cell_type": "code",
      "metadata": {
        "id": "onUoH5UJMo16",
        "colab_type": "code",
        "colab": {}
      },
      "source": [
        "\n",
        "def clean_text(text):\n",
        "    text = text.lower()\n",
        "    text = re.sub(r\"what's\", \"what is \", text)\n",
        "    text = re.sub(r\"\\'s\", \" \", text)\n",
        "    text = re.sub(r\"\\'ve\", \" have \", text)\n",
        "    text = re.sub(r\"can't\", \"can not \", text)\n",
        "    text = re.sub(r\"n't\", \" not \", text)\n",
        "    text = re.sub(r\"i'm\", \"i am \", text)\n",
        "    text = re.sub(r\"\\'re\", \" are \", text)\n",
        "    text = re.sub(r\"\\'d\", \" would \", text)\n",
        "    text = re.sub(r\"\\'ll\", \" will \", text)\n",
        "    text = re.sub(r\"\\'scuse\", \" excuse \", text)\n",
        "    #text = re.sub('\\W', ' ', text)\n",
        "    #text = re.sub('\\s+', ' ', text)\n",
        "    text = text.strip(' ')\n",
        "    return text"
      ],
      "execution_count": 0,
      "outputs": []
    },
    {
      "cell_type": "code",
      "metadata": {
        "id": "msfdxVWiSy97",
        "colab_type": "code",
        "outputId": "4559e896-edb9-4b32-be6f-71f383a59b2a",
        "colab": {
          "base_uri": "https://localhost:8080/",
          "height": 70
        }
      },
      "source": [
        "#list(movies['overview'][10:12].apply(clean_text))\n",
        "\n",
        "#movies['overview']=movies['overview'].apply(str)\n",
        "\n",
        "list(movies['Plot'][10:12].apply(clean_text))\n",
        "\n",
        "\n"
      ],
      "execution_count": 22,
      "outputs": [
        {
          "output_type": "execute_result",
          "data": {
            "text/plain": [
              "['widowed u.s. president andrew shepherd, one of the world  most powerful men, can have anything he wants -- and what he covets most is sydney ellen wade, a washington lobbyist. but shepherd  attempts at courting her spark wild rumors and decimate his approval ratings.',\n",
              " 'when a lawyer shows up at the vampire  doorstep, he falls prey to his charms and joins him in his search for fresh blood. enter dr. van helsing, who may be the only one able to vanquish the count.']"
            ]
          },
          "metadata": {
            "tags": []
          },
          "execution_count": 22
        }
      ]
    },
    {
      "cell_type": "code",
      "metadata": {
        "id": "0FNoLihESy6m",
        "colab_type": "code",
        "outputId": "ff7402ed-885b-4e2f-d9b4-cb8e7a7de42b",
        "colab": {
          "base_uri": "https://localhost:8080/",
          "height": 70
        }
      },
      "source": [
        "list(movies['Plot'][10:12])"
      ],
      "execution_count": 23,
      "outputs": [
        {
          "output_type": "execute_result",
          "data": {
            "text/plain": [
              "[\"Widowed U.S. president Andrew Shepherd, one of the world's most powerful men, can have anything he wants -- and what he covets most is Sydney Ellen Wade, a Washington lobbyist. But Shepherd's attempts at courting her spark wild rumors and decimate his approval ratings.\",\n",
              " \"When a lawyer shows up at the vampire's doorstep, he falls prey to his charms and joins him in his search for fresh blood. Enter Dr. van Helsing, who may be the only one able to vanquish the count.\"]"
            ]
          },
          "metadata": {
            "tags": []
          },
          "execution_count": 23
        }
      ]
    },
    {
      "cell_type": "code",
      "metadata": {
        "id": "MWtGZ4W6Sy4Q",
        "colab_type": "code",
        "colab": {}
      },
      "source": [
        "movies['Plot']=movies['Plot'].apply(str)\n",
        "\n",
        "movies['PlotClean'] = movies['Plot'].apply(clean_text)\n"
      ],
      "execution_count": 0,
      "outputs": []
    },
    {
      "cell_type": "code",
      "metadata": {
        "id": "yPCBe1TFSy1R",
        "colab_type": "code",
        "outputId": "e9388fe9-7e2d-4ce7-cb79-06490f0b3122",
        "colab": {
          "base_uri": "https://localhost:8080/",
          "height": 226
        }
      },
      "source": [
        "movies[['Plot','PlotClean']][6:12]"
      ],
      "execution_count": 25,
      "outputs": [
        {
          "output_type": "execute_result",
          "data": {
            "text/html": [
              "<div>\n",
              "<style scoped>\n",
              "    .dataframe tbody tr th:only-of-type {\n",
              "        vertical-align: middle;\n",
              "    }\n",
              "\n",
              "    .dataframe tbody tr th {\n",
              "        vertical-align: top;\n",
              "    }\n",
              "\n",
              "    .dataframe thead th {\n",
              "        text-align: right;\n",
              "    }\n",
              "</style>\n",
              "<table border=\"1\" class=\"dataframe\">\n",
              "  <thead>\n",
              "    <tr style=\"text-align: right;\">\n",
              "      <th></th>\n",
              "      <th>Plot</th>\n",
              "      <th>PlotClean</th>\n",
              "    </tr>\n",
              "  </thead>\n",
              "  <tbody>\n",
              "    <tr>\n",
              "      <th>6</th>\n",
              "      <td>An ugly duckling having undergone a remarkable...</td>\n",
              "      <td>an ugly duckling having undergone a remarkable...</td>\n",
              "    </tr>\n",
              "    <tr>\n",
              "      <th>7</th>\n",
              "      <td>A mischievous young boy, Tom Sawyer, witnesses...</td>\n",
              "      <td>a mischievous young boy, tom sawyer, witnesses...</td>\n",
              "    </tr>\n",
              "    <tr>\n",
              "      <th>8</th>\n",
              "      <td>International action superstar Jean Claude Van...</td>\n",
              "      <td>international action superstar jean claude van...</td>\n",
              "    </tr>\n",
              "    <tr>\n",
              "      <th>9</th>\n",
              "      <td>James Bond must unmask the mysterious head of ...</td>\n",
              "      <td>james bond must unmask the mysterious head of ...</td>\n",
              "    </tr>\n",
              "    <tr>\n",
              "      <th>10</th>\n",
              "      <td>Widowed U.S. president Andrew Shepherd, one of...</td>\n",
              "      <td>widowed u.s. president andrew shepherd, one of...</td>\n",
              "    </tr>\n",
              "    <tr>\n",
              "      <th>11</th>\n",
              "      <td>When a lawyer shows up at the vampire's doorst...</td>\n",
              "      <td>when a lawyer shows up at the vampire  doorste...</td>\n",
              "    </tr>\n",
              "  </tbody>\n",
              "</table>\n",
              "</div>"
            ],
            "text/plain": [
              "                                                 Plot                                          PlotClean\n",
              "6   An ugly duckling having undergone a remarkable...  an ugly duckling having undergone a remarkable...\n",
              "7   A mischievous young boy, Tom Sawyer, witnesses...  a mischievous young boy, tom sawyer, witnesses...\n",
              "8   International action superstar Jean Claude Van...  international action superstar jean claude van...\n",
              "9   James Bond must unmask the mysterious head of ...  james bond must unmask the mysterious head of ...\n",
              "10  Widowed U.S. president Andrew Shepherd, one of...  widowed u.s. president andrew shepherd, one of...\n",
              "11  When a lawyer shows up at the vampire's doorst...  when a lawyer shows up at the vampire  doorste..."
            ]
          },
          "metadata": {
            "tags": []
          },
          "execution_count": 25
        }
      ]
    },
    {
      "cell_type": "code",
      "metadata": {
        "id": "azemiViHTI9K",
        "colab_type": "code",
        "outputId": "0a6730a7-3bf0-4f10-9297-786733714d05",
        "colab": {
          "base_uri": "https://localhost:8080/",
          "height": 226
        }
      },
      "source": [
        "movies[['Plot','PlotClean','SplittinMainGenre']][6:12]"
      ],
      "execution_count": 26,
      "outputs": [
        {
          "output_type": "execute_result",
          "data": {
            "text/html": [
              "<div>\n",
              "<style scoped>\n",
              "    .dataframe tbody tr th:only-of-type {\n",
              "        vertical-align: middle;\n",
              "    }\n",
              "\n",
              "    .dataframe tbody tr th {\n",
              "        vertical-align: top;\n",
              "    }\n",
              "\n",
              "    .dataframe thead th {\n",
              "        text-align: right;\n",
              "    }\n",
              "</style>\n",
              "<table border=\"1\" class=\"dataframe\">\n",
              "  <thead>\n",
              "    <tr style=\"text-align: right;\">\n",
              "      <th></th>\n",
              "      <th>Plot</th>\n",
              "      <th>PlotClean</th>\n",
              "      <th>SplittinMainGenre</th>\n",
              "    </tr>\n",
              "  </thead>\n",
              "  <tbody>\n",
              "    <tr>\n",
              "      <th>6</th>\n",
              "      <td>An ugly duckling having undergone a remarkable...</td>\n",
              "      <td>an ugly duckling having undergone a remarkable...</td>\n",
              "      <td>[Comedy, Romance]</td>\n",
              "    </tr>\n",
              "    <tr>\n",
              "      <th>7</th>\n",
              "      <td>A mischievous young boy, Tom Sawyer, witnesses...</td>\n",
              "      <td>a mischievous young boy, tom sawyer, witnesses...</td>\n",
              "      <td>[Adventure, Children]</td>\n",
              "    </tr>\n",
              "    <tr>\n",
              "      <th>8</th>\n",
              "      <td>International action superstar Jean Claude Van...</td>\n",
              "      <td>international action superstar jean claude van...</td>\n",
              "      <td>[Action]</td>\n",
              "    </tr>\n",
              "    <tr>\n",
              "      <th>9</th>\n",
              "      <td>James Bond must unmask the mysterious head of ...</td>\n",
              "      <td>james bond must unmask the mysterious head of ...</td>\n",
              "      <td>[Action, Adventure, Thriller]</td>\n",
              "    </tr>\n",
              "    <tr>\n",
              "      <th>10</th>\n",
              "      <td>Widowed U.S. president Andrew Shepherd, one of...</td>\n",
              "      <td>widowed u.s. president andrew shepherd, one of...</td>\n",
              "      <td>[Comedy, Drama, Romance]</td>\n",
              "    </tr>\n",
              "    <tr>\n",
              "      <th>11</th>\n",
              "      <td>When a lawyer shows up at the vampire's doorst...</td>\n",
              "      <td>when a lawyer shows up at the vampire  doorste...</td>\n",
              "      <td>[Comedy, Horror]</td>\n",
              "    </tr>\n",
              "  </tbody>\n",
              "</table>\n",
              "</div>"
            ],
            "text/plain": [
              "                                                 Plot  ...              SplittinMainGenre\n",
              "6   An ugly duckling having undergone a remarkable...  ...              [Comedy, Romance]\n",
              "7   A mischievous young boy, Tom Sawyer, witnesses...  ...          [Adventure, Children]\n",
              "8   International action superstar Jean Claude Van...  ...                       [Action]\n",
              "9   James Bond must unmask the mysterious head of ...  ...  [Action, Adventure, Thriller]\n",
              "10  Widowed U.S. president Andrew Shepherd, one of...  ...       [Comedy, Drama, Romance]\n",
              "11  When a lawyer shows up at the vampire's doorst...  ...               [Comedy, Horror]\n",
              "\n",
              "[6 rows x 3 columns]"
            ]
          },
          "metadata": {
            "tags": []
          },
          "execution_count": 26
        }
      ]
    },
    {
      "cell_type": "code",
      "metadata": {
        "id": "KF3ICFSjTI6A",
        "colab_type": "code",
        "outputId": "7938a409-a233-4256-a4d9-8760711fee38",
        "colab": {
          "base_uri": "https://localhost:8080/",
          "height": 33
        }
      },
      "source": [
        "len(movies['SplittinMainGenre'][0])"
      ],
      "execution_count": 27,
      "outputs": [
        {
          "output_type": "execute_result",
          "data": {
            "text/plain": [
              "4"
            ]
          },
          "metadata": {
            "tags": []
          },
          "execution_count": 27
        }
      ]
    },
    {
      "cell_type": "code",
      "metadata": {
        "id": "spoX1hZdTI3K",
        "colab_type": "code",
        "outputId": "7d2d4ccb-1887-4a00-9eef-2f98a3f34ccf",
        "colab": {
          "base_uri": "https://localhost:8080/",
          "height": 117
        }
      },
      "source": [
        "movies['SplittinMainGenre'][0:5].apply(len)"
      ],
      "execution_count": 28,
      "outputs": [
        {
          "output_type": "execute_result",
          "data": {
            "text/plain": [
              "0    4\n",
              "1    3\n",
              "2    2\n",
              "3    3\n",
              "4    1\n",
              "Name: SplittinMainGenre, dtype: int64"
            ]
          },
          "metadata": {
            "tags": []
          },
          "execution_count": 28
        }
      ]
    },
    {
      "cell_type": "code",
      "metadata": {
        "id": "bFYppTMOTI0S",
        "colab_type": "code",
        "outputId": "3da76012-77ff-4748-8e9c-7bdebe92075e",
        "colab": {
          "base_uri": "https://localhost:8080/",
          "height": 33
        }
      },
      "source": [
        "movies['CountOfMainGenres'] = movies['SplittinMainGenre'].apply(len)\n",
        "\n",
        "max(movies['CountOfMainGenres'] )                     \n",
        "                          \n"
      ],
      "execution_count": 29,
      "outputs": [
        {
          "output_type": "execute_result",
          "data": {
            "text/plain": [
              "8"
            ]
          },
          "metadata": {
            "tags": []
          },
          "execution_count": 29
        }
      ]
    },
    {
      "cell_type": "code",
      "metadata": {
        "id": "Hq5-VhpvTIxx",
        "colab_type": "code",
        "outputId": "3a8fddb9-f7e7-48e0-ee65-2acf026ebc2b",
        "colab": {
          "base_uri": "https://localhost:8080/",
          "height": 294
        }
      },
      "source": [
        "movies[movies['CountOfMainGenres']==8]"
      ],
      "execution_count": 30,
      "outputs": [
        {
          "output_type": "execute_result",
          "data": {
            "text/html": [
              "<div>\n",
              "<style scoped>\n",
              "    .dataframe tbody tr th:only-of-type {\n",
              "        vertical-align: middle;\n",
              "    }\n",
              "\n",
              "    .dataframe tbody tr th {\n",
              "        vertical-align: top;\n",
              "    }\n",
              "\n",
              "    .dataframe thead th {\n",
              "        text-align: right;\n",
              "    }\n",
              "</style>\n",
              "<table border=\"1\" class=\"dataframe\">\n",
              "  <thead>\n",
              "    <tr style=\"text-align: right;\">\n",
              "      <th></th>\n",
              "      <th>movieId</th>\n",
              "      <th>Title</th>\n",
              "      <th>Genre</th>\n",
              "      <th>Plot</th>\n",
              "      <th>Count</th>\n",
              "      <th>RightGenre</th>\n",
              "      <th>GenreSplit</th>\n",
              "      <th>SplittinMainGenre</th>\n",
              "      <th>PlotClean</th>\n",
              "      <th>CountOfMainGenres</th>\n",
              "    </tr>\n",
              "  </thead>\n",
              "  <tbody>\n",
              "    <tr>\n",
              "      <th>4922</th>\n",
              "      <td>5018.0</td>\n",
              "      <td>Motorama (1991)</td>\n",
              "      <td>Adventure|Comedy|Crime|Drama|Fantasy|Mystery|S...</td>\n",
              "      <td>Is today's fanaticism tomorrow's policy? In a ...</td>\n",
              "      <td>1</td>\n",
              "      <td>Adventure|Comedy|Crime|Drama|Fantasy|Mystery|S...</td>\n",
              "      <td>[Adventure, Comedy, Crime, Drama, Fantasy, Mys...</td>\n",
              "      <td>[Adventure, Comedy, Crime, Drama, Fantasy, Mys...</td>\n",
              "      <td>is today  fanaticism tomorrow  policy? in a we...</td>\n",
              "      <td>8</td>\n",
              "    </tr>\n",
              "    <tr>\n",
              "      <th>16024</th>\n",
              "      <td>81132.0</td>\n",
              "      <td>Rubber (2010)</td>\n",
              "      <td>Action|Adventure|Comedy|Crime|Drama|Film-Noir|...</td>\n",
              "      <td>A unique 16th century woman, Danielle possesse...</td>\n",
              "      <td>1</td>\n",
              "      <td>Action|Adventure|Comedy|Crime|Drama|FilmNoir|H...</td>\n",
              "      <td>[Action, Adventure, Comedy, Crime, Drama, Film...</td>\n",
              "      <td>[Action, Adventure, Comedy, Crime, Drama, Horr...</td>\n",
              "      <td>a unique 16th century woman, danielle possesse...</td>\n",
              "      <td>8</td>\n",
              "    </tr>\n",
              "  </tbody>\n",
              "</table>\n",
              "</div>"
            ],
            "text/plain": [
              "       movieId  ... CountOfMainGenres\n",
              "4922    5018.0  ...                 8\n",
              "16024  81132.0  ...                 8\n",
              "\n",
              "[2 rows x 10 columns]"
            ]
          },
          "metadata": {
            "tags": []
          },
          "execution_count": 30
        }
      ]
    },
    {
      "cell_type": "code",
      "metadata": {
        "id": "t8GTLRX3TIvF",
        "colab_type": "code",
        "outputId": "3bdf22ef-6039-4d60-e691-66c2cf11df3a",
        "colab": {
          "base_uri": "https://localhost:8080/",
          "height": 298
        }
      },
      "source": [
        "movies['CountOfMainGenres'].hist()\n",
        "\n",
        "plt.title(\"Number of movies by number of genres\")\n",
        "plt.ylabel('# of movies', fontsize=12)\n",
        "plt.xlabel('# of genres', fontsize=12)\n",
        "plt.show()"
      ],
      "execution_count": 31,
      "outputs": [
        {
          "output_type": "display_data",
          "data": {
            "image/png": "[encoded data removed]",
            "text/plain": [
              "<Figure size 432x288 with 1 Axes>"
            ]
          },
          "metadata": {
            "tags": []
          }
        }
      ]
    },
    {
      "cell_type": "code",
      "metadata": {
        "id": "ZkW6fuWuTIsg",
        "colab_type": "code",
        "outputId": "2b127a5b-f855-4821-f734-2a4889df5ec1",
        "colab": {
          "base_uri": "https://localhost:8080/",
          "height": 614
        }
      },
      "source": [
        "movies.SplittinMainGenre[0:19].apply(lambda x: '-'.join(x)).str.split(pat='-',n=5,expand=True)"
      ],
      "execution_count": 32,
      "outputs": [
        {
          "output_type": "execute_result",
          "data": {
            "text/html": [
              "<div>\n",
              "<style scoped>\n",
              "    .dataframe tbody tr th:only-of-type {\n",
              "        vertical-align: middle;\n",
              "    }\n",
              "\n",
              "    .dataframe tbody tr th {\n",
              "        vertical-align: top;\n",
              "    }\n",
              "\n",
              "    .dataframe thead th {\n",
              "        text-align: right;\n",
              "    }\n",
              "</style>\n",
              "<table border=\"1\" class=\"dataframe\">\n",
              "  <thead>\n",
              "    <tr style=\"text-align: right;\">\n",
              "      <th></th>\n",
              "      <th>0</th>\n",
              "      <th>1</th>\n",
              "      <th>2</th>\n",
              "      <th>3</th>\n",
              "    </tr>\n",
              "  </thead>\n",
              "  <tbody>\n",
              "    <tr>\n",
              "      <th>0</th>\n",
              "      <td>Adventure</td>\n",
              "      <td>Children</td>\n",
              "      <td>Comedy</td>\n",
              "      <td>Fantasy</td>\n",
              "    </tr>\n",
              "    <tr>\n",
              "      <th>1</th>\n",
              "      <td>Adventure</td>\n",
              "      <td>Children</td>\n",
              "      <td>Fantasy</td>\n",
              "      <td>None</td>\n",
              "    </tr>\n",
              "    <tr>\n",
              "      <th>2</th>\n",
              "      <td>Comedy</td>\n",
              "      <td>Romance</td>\n",
              "      <td>None</td>\n",
              "      <td>None</td>\n",
              "    </tr>\n",
              "    <tr>\n",
              "      <th>3</th>\n",
              "      <td>Comedy</td>\n",
              "      <td>Drama</td>\n",
              "      <td>Romance</td>\n",
              "      <td>None</td>\n",
              "    </tr>\n",
              "    <tr>\n",
              "      <th>4</th>\n",
              "      <td>Comedy</td>\n",
              "      <td>None</td>\n",
              "      <td>None</td>\n",
              "      <td>None</td>\n",
              "    </tr>\n",
              "    <tr>\n",
              "      <th>5</th>\n",
              "      <td>Action</td>\n",
              "      <td>Crime</td>\n",
              "      <td>Thriller</td>\n",
              "      <td>None</td>\n",
              "    </tr>\n",
              "    <tr>\n",
              "      <th>6</th>\n",
              "      <td>Comedy</td>\n",
              "      <td>Romance</td>\n",
              "      <td>None</td>\n",
              "      <td>None</td>\n",
              "    </tr>\n",
              "    <tr>\n",
              "      <th>7</th>\n",
              "      <td>Adventure</td>\n",
              "      <td>Children</td>\n",
              "      <td>None</td>\n",
              "      <td>None</td>\n",
              "    </tr>\n",
              "    <tr>\n",
              "      <th>8</th>\n",
              "      <td>Action</td>\n",
              "      <td>None</td>\n",
              "      <td>None</td>\n",
              "      <td>None</td>\n",
              "    </tr>\n",
              "    <tr>\n",
              "      <th>9</th>\n",
              "      <td>Action</td>\n",
              "      <td>Adventure</td>\n",
              "      <td>Thriller</td>\n",
              "      <td>None</td>\n",
              "    </tr>\n",
              "    <tr>\n",
              "      <th>10</th>\n",
              "      <td>Comedy</td>\n",
              "      <td>Drama</td>\n",
              "      <td>Romance</td>\n",
              "      <td>None</td>\n",
              "    </tr>\n",
              "    <tr>\n",
              "      <th>11</th>\n",
              "      <td>Comedy</td>\n",
              "      <td>Horror</td>\n",
              "      <td>None</td>\n",
              "      <td>None</td>\n",
              "    </tr>\n",
              "    <tr>\n",
              "      <th>12</th>\n",
              "      <td>Adventure</td>\n",
              "      <td>Children</td>\n",
              "      <td>None</td>\n",
              "      <td>None</td>\n",
              "    </tr>\n",
              "    <tr>\n",
              "      <th>13</th>\n",
              "      <td>Drama</td>\n",
              "      <td>None</td>\n",
              "      <td>None</td>\n",
              "      <td>None</td>\n",
              "    </tr>\n",
              "    <tr>\n",
              "      <th>14</th>\n",
              "      <td>Action</td>\n",
              "      <td>Adventure</td>\n",
              "      <td>Romance</td>\n",
              "      <td>None</td>\n",
              "    </tr>\n",
              "    <tr>\n",
              "      <th>15</th>\n",
              "      <td>Crime</td>\n",
              "      <td>Drama</td>\n",
              "      <td>None</td>\n",
              "      <td>None</td>\n",
              "    </tr>\n",
              "    <tr>\n",
              "      <th>16</th>\n",
              "      <td>Drama</td>\n",
              "      <td>Romance</td>\n",
              "      <td>None</td>\n",
              "      <td>None</td>\n",
              "    </tr>\n",
              "    <tr>\n",
              "      <th>17</th>\n",
              "      <td>Comedy</td>\n",
              "      <td>None</td>\n",
              "      <td>None</td>\n",
              "      <td>None</td>\n",
              "    </tr>\n",
              "    <tr>\n",
              "      <th>18</th>\n",
              "      <td>Comedy</td>\n",
              "      <td>None</td>\n",
              "      <td>None</td>\n",
              "      <td>None</td>\n",
              "    </tr>\n",
              "  </tbody>\n",
              "</table>\n",
              "</div>"
            ],
            "text/plain": [
              "            0          1         2        3\n",
              "0   Adventure   Children    Comedy  Fantasy\n",
              "1   Adventure   Children   Fantasy     None\n",
              "2      Comedy    Romance      None     None\n",
              "3      Comedy      Drama   Romance     None\n",
              "4      Comedy       None      None     None\n",
              "5      Action      Crime  Thriller     None\n",
              "6      Comedy    Romance      None     None\n",
              "7   Adventure   Children      None     None\n",
              "8      Action       None      None     None\n",
              "9      Action  Adventure  Thriller     None\n",
              "10     Comedy      Drama   Romance     None\n",
              "11     Comedy     Horror      None     None\n",
              "12  Adventure   Children      None     None\n",
              "13      Drama       None      None     None\n",
              "14     Action  Adventure   Romance     None\n",
              "15      Crime      Drama      None     None\n",
              "16      Drama    Romance      None     None\n",
              "17     Comedy       None      None     None\n",
              "18     Comedy       None      None     None"
            ]
          },
          "metadata": {
            "tags": []
          },
          "execution_count": 32
        }
      ]
    },
    {
      "cell_type": "code",
      "metadata": {
        "id": "LKtVd6qYieRs",
        "colab_type": "code",
        "outputId": "44b13b90-0cf0-4f44-9d44-9d89d2312db8",
        "colab": {
          "base_uri": "https://localhost:8080/",
          "height": 316
        }
      },
      "source": [
        "movies.SplittinMainGenre[6:15].apply(lambda x: '-'.join(x)).str.get_dummies(sep='-')"
      ],
      "execution_count": 33,
      "outputs": [
        {
          "output_type": "execute_result",
          "data": {
            "text/html": [
              "<div>\n",
              "<style scoped>\n",
              "    .dataframe tbody tr th:only-of-type {\n",
              "        vertical-align: middle;\n",
              "    }\n",
              "\n",
              "    .dataframe tbody tr th {\n",
              "        vertical-align: top;\n",
              "    }\n",
              "\n",
              "    .dataframe thead th {\n",
              "        text-align: right;\n",
              "    }\n",
              "</style>\n",
              "<table border=\"1\" class=\"dataframe\">\n",
              "  <thead>\n",
              "    <tr style=\"text-align: right;\">\n",
              "      <th></th>\n",
              "      <th>Action</th>\n",
              "      <th>Adventure</th>\n",
              "      <th>Children</th>\n",
              "      <th>Comedy</th>\n",
              "      <th>Drama</th>\n",
              "      <th>Horror</th>\n",
              "      <th>Romance</th>\n",
              "      <th>Thriller</th>\n",
              "    </tr>\n",
              "  </thead>\n",
              "  <tbody>\n",
              "    <tr>\n",
              "      <th>6</th>\n",
              "      <td>0</td>\n",
              "      <td>0</td>\n",
              "      <td>0</td>\n",
              "      <td>1</td>\n",
              "      <td>0</td>\n",
              "      <td>0</td>\n",
              "      <td>1</td>\n",
              "      <td>0</td>\n",
              "    </tr>\n",
              "    <tr>\n",
              "      <th>7</th>\n",
              "      <td>0</td>\n",
              "      <td>1</td>\n",
              "      <td>1</td>\n",
              "      <td>0</td>\n",
              "      <td>0</td>\n",
              "      <td>0</td>\n",
              "      <td>0</td>\n",
              "      <td>0</td>\n",
              "    </tr>\n",
              "    <tr>\n",
              "      <th>8</th>\n",
              "      <td>1</td>\n",
              "      <td>0</td>\n",
              "      <td>0</td>\n",
              "      <td>0</td>\n",
              "      <td>0</td>\n",
              "      <td>0</td>\n",
              "      <td>0</td>\n",
              "      <td>0</td>\n",
              "    </tr>\n",
              "    <tr>\n",
              "      <th>9</th>\n",
              "      <td>1</td>\n",
              "      <td>1</td>\n",
              "      <td>0</td>\n",
              "      <td>0</td>\n",
              "      <td>0</td>\n",
              "      <td>0</td>\n",
              "      <td>0</td>\n",
              "      <td>1</td>\n",
              "    </tr>\n",
              "    <tr>\n",
              "      <th>10</th>\n",
              "      <td>0</td>\n",
              "      <td>0</td>\n",
              "      <td>0</td>\n",
              "      <td>1</td>\n",
              "      <td>1</td>\n",
              "      <td>0</td>\n",
              "      <td>1</td>\n",
              "      <td>0</td>\n",
              "    </tr>\n",
              "    <tr>\n",
              "      <th>11</th>\n",
              "      <td>0</td>\n",
              "      <td>0</td>\n",
              "      <td>0</td>\n",
              "      <td>1</td>\n",
              "      <td>0</td>\n",
              "      <td>1</td>\n",
              "      <td>0</td>\n",
              "      <td>0</td>\n",
              "    </tr>\n",
              "    <tr>\n",
              "      <th>12</th>\n",
              "      <td>0</td>\n",
              "      <td>1</td>\n",
              "      <td>1</td>\n",
              "      <td>0</td>\n",
              "      <td>0</td>\n",
              "      <td>0</td>\n",
              "      <td>0</td>\n",
              "      <td>0</td>\n",
              "    </tr>\n",
              "    <tr>\n",
              "      <th>13</th>\n",
              "      <td>0</td>\n",
              "      <td>0</td>\n",
              "      <td>0</td>\n",
              "      <td>0</td>\n",
              "      <td>1</td>\n",
              "      <td>0</td>\n",
              "      <td>0</td>\n",
              "      <td>0</td>\n",
              "    </tr>\n",
              "    <tr>\n",
              "      <th>14</th>\n",
              "      <td>1</td>\n",
              "      <td>1</td>\n",
              "      <td>0</td>\n",
              "      <td>0</td>\n",
              "      <td>0</td>\n",
              "      <td>0</td>\n",
              "      <td>1</td>\n",
              "      <td>0</td>\n",
              "    </tr>\n",
              "  </tbody>\n",
              "</table>\n",
              "</div>"
            ],
            "text/plain": [
              "    Action  Adventure  Children  Comedy  Drama  Horror  Romance  Thriller\n",
              "6        0          0         0       1      0       0        1         0\n",
              "7        0          1         1       0      0       0        0         0\n",
              "8        1          0         0       0      0       0        0         0\n",
              "9        1          1         0       0      0       0        0         1\n",
              "10       0          0         0       1      1       0        1         0\n",
              "11       0          0         0       1      0       1        0         0\n",
              "12       0          1         1       0      0       0        0         0\n",
              "13       0          0         0       0      1       0        0         0\n",
              "14       1          1         0       0      0       0        1         0"
            ]
          },
          "metadata": {
            "tags": []
          },
          "execution_count": 33
        }
      ]
    },
    {
      "cell_type": "code",
      "metadata": {
        "id": "6AdSQNXCiePK",
        "colab_type": "code",
        "outputId": "dca0e753-f4e4-4ed3-b915-3622c26f10df",
        "colab": {
          "base_uri": "https://localhost:8080/",
          "height": 184
        }
      },
      "source": [
        "movies.SplittinMainGenre[6:15]"
      ],
      "execution_count": 34,
      "outputs": [
        {
          "output_type": "execute_result",
          "data": {
            "text/plain": [
              "6                 [Comedy, Romance]\n",
              "7             [Adventure, Children]\n",
              "8                          [Action]\n",
              "9     [Action, Adventure, Thriller]\n",
              "10         [Comedy, Drama, Romance]\n",
              "11                 [Comedy, Horror]\n",
              "12            [Adventure, Children]\n",
              "13                          [Drama]\n",
              "14     [Action, Adventure, Romance]\n",
              "Name: SplittinMainGenre, dtype: object"
            ]
          },
          "metadata": {
            "tags": []
          },
          "execution_count": 34
        }
      ]
    },
    {
      "cell_type": "code",
      "metadata": {
        "id": "C2gvSD-uieMt",
        "colab_type": "code",
        "outputId": "d51ebf2d-f38b-4a07-d167-045af59dec59",
        "colab": {
          "base_uri": "https://localhost:8080/",
          "height": 67
        }
      },
      "source": [
        "movies.columns"
      ],
      "execution_count": 35,
      "outputs": [
        {
          "output_type": "execute_result",
          "data": {
            "text/plain": [
              "Index(['movieId', 'Title', 'Genre', 'Plot', 'Count', 'RightGenre',\n",
              "       'GenreSplit', 'SplittinMainGenre', 'PlotClean', 'CountOfMainGenres'],\n",
              "      dtype='object')"
            ]
          },
          "metadata": {
            "tags": []
          },
          "execution_count": 35
        }
      ]
    },
    {
      "cell_type": "code",
      "metadata": {
        "id": "3jjUnGULieKX",
        "colab_type": "code",
        "outputId": "ef6f32aa-a31d-460e-d800-b2e0b6d2f097",
        "colab": {
          "base_uri": "https://localhost:8080/",
          "height": 33
        }
      },
      "source": [
        "movies.shape"
      ],
      "execution_count": 36,
      "outputs": [
        {
          "output_type": "execute_result",
          "data": {
            "text/plain": [
              "(45466, 10)"
            ]
          },
          "metadata": {
            "tags": []
          },
          "execution_count": 36
        }
      ]
    },
    {
      "cell_type": "code",
      "metadata": {
        "id": "QF8CBcCkieIC",
        "colab_type": "code",
        "outputId": "3504e33e-5d2e-4ac0-b26c-bf81d78d3303",
        "colab": {
          "base_uri": "https://localhost:8080/",
          "height": 33
        }
      },
      "source": [
        "len(movies.Title.unique())"
      ],
      "execution_count": 37,
      "outputs": [
        {
          "output_type": "execute_result",
          "data": {
            "text/plain": [
              "27263"
            ]
          },
          "metadata": {
            "tags": []
          },
          "execution_count": 37
        }
      ]
    },
    {
      "cell_type": "code",
      "metadata": {
        "id": "-Ij-40p8ieFY",
        "colab_type": "code",
        "outputId": "7b90f45a-440b-47d3-cb3b-017002d2c3bb",
        "colab": {
          "base_uri": "https://localhost:8080/",
          "height": 33
        }
      },
      "source": [
        "movies[movies.RightGenre==''].shape"
      ],
      "execution_count": 38,
      "outputs": [
        {
          "output_type": "execute_result",
          "data": {
            "text/plain": [
              "(0, 10)"
            ]
          },
          "metadata": {
            "tags": []
          },
          "execution_count": 38
        }
      ]
    },
    {
      "cell_type": "code",
      "metadata": {
        "id": "HGHq1vSTieCs",
        "colab_type": "code",
        "colab": {}
      },
      "source": [
        "movies = pd.concat([movies, movies.SplittinMainGenre.apply(lambda x: '-'.join(x)).str.get_dummies(sep='-')], axis=1)"
      ],
      "execution_count": 0,
      "outputs": []
    },
    {
      "cell_type": "code",
      "metadata": {
        "id": "RoW-0ov-id_o",
        "colab_type": "code",
        "colab": {}
      },
      "source": [
        "MoviesTrain, MoviesTest = train_test_split(movies[movies.RightGenre!=''], random_state=42, test_size=0.30, shuffle=True)"
      ],
      "execution_count": 0,
      "outputs": []
    },
    {
      "cell_type": "code",
      "metadata": {
        "id": "r4L9mAnoid8k",
        "colab_type": "code",
        "colab": {}
      },
      "source": [
        "tfidf = TfidfVectorizer(stop_words ='english', smooth_idf=False, sublinear_tf=False, norm=None, analyzer='word')"
      ],
      "execution_count": 0,
      "outputs": []
    },
    {
      "cell_type": "code",
      "metadata": {
        "id": "R1UXcjl9iodf",
        "colab_type": "code",
        "colab": {}
      },
      "source": [
        "x_train = tfidf.fit_transform(MoviesTrain.PlotClean) \n",
        "x_test  = tfidf.transform(MoviesTest.PlotClean)"
      ],
      "execution_count": 0,
      "outputs": []
    },
    {
      "cell_type": "code",
      "metadata": {
        "id": "bjMpKbh4iobU",
        "colab_type": "code",
        "outputId": "375fe36f-edaf-4a99-9f83-d131529b0eaa",
        "colab": {
          "base_uri": "https://localhost:8080/",
          "height": 33
        }
      },
      "source": [
        "print('nrow of the MoviesTrain ={}'. format(MoviesTrain.shape[0]))"
      ],
      "execution_count": 43,
      "outputs": [
        {
          "output_type": "stream",
          "text": [
            "nrow of the MoviesTrain =31826\n"
          ],
          "name": "stdout"
        }
      ]
    },
    {
      "cell_type": "code",
      "metadata": {
        "id": "xzrigCKWioYb",
        "colab_type": "code",
        "outputId": "76bb5d2e-a535-4e88-faab-f9144162992b",
        "colab": {
          "base_uri": "https://localhost:8080/",
          "height": 33
        }
      },
      "source": [
        "print('nrow of the MoviesTest ={}'. format(MoviesTest.shape[0]))"
      ],
      "execution_count": 44,
      "outputs": [
        {
          "output_type": "stream",
          "text": [
            "nrow of the MoviesTest =13640\n"
          ],
          "name": "stdout"
        }
      ]
    },
    {
      "cell_type": "code",
      "metadata": {
        "id": "t53a8xQhioWF",
        "colab_type": "code",
        "outputId": "6284406c-df37-4166-d510-64467eca8d42",
        "colab": {
          "base_uri": "https://localhost:8080/",
          "height": 33
        }
      },
      "source": [
        "type(x_train)"
      ],
      "execution_count": 45,
      "outputs": [
        {
          "output_type": "execute_result",
          "data": {
            "text/plain": [
              "scipy.sparse.csr.csr_matrix"
            ]
          },
          "metadata": {
            "tags": []
          },
          "execution_count": 45
        }
      ]
    },
    {
      "cell_type": "code",
      "metadata": {
        "id": "qZysN8qLioT3",
        "colab_type": "code",
        "outputId": "b2843edd-5685-40f4-b840-e482dacf9b23",
        "colab": {
          "base_uri": "https://localhost:8080/",
          "height": 134
        }
      },
      "source": [
        "x_train.toarray()"
      ],
      "execution_count": 46,
      "outputs": [
        {
          "output_type": "execute_result",
          "data": {
            "text/plain": [
              "array([[0., 0., 0., ..., 0., 0., 0.],\n",
              "       [0., 0., 0., ..., 0., 0., 0.],\n",
              "       [0., 0., 0., ..., 0., 0., 0.],\n",
              "       ...,\n",
              "       [0., 0., 0., ..., 0., 0., 0.],\n",
              "       [0., 0., 0., ..., 0., 0., 0.],\n",
              "       [0., 0., 0., ..., 0., 0., 0.]])"
            ]
          },
          "metadata": {
            "tags": []
          },
          "execution_count": 46
        }
      ]
    },
    {
      "cell_type": "code",
      "metadata": {
        "id": "1_aydYvgioRZ",
        "colab_type": "code",
        "outputId": "418c12b4-ff61-4861-b4a3-ea112734ff75",
        "colab": {
          "base_uri": "https://localhost:8080/",
          "height": 67
        }
      },
      "source": [
        "tfidf.inverse_transform(x_train[0].toarray())"
      ],
      "execution_count": 47,
      "outputs": [
        {
          "output_type": "execute_result",
          "data": {
            "text/plain": [
              "[array(['clairvoyant', 'crime', 'falls', 'involved', 'love', 'murderer',\n",
              "        'pathological', 'photographer', 'search', 'soon', 'story'],\n",
              "       dtype='<U22')]"
            ]
          },
          "metadata": {
            "tags": []
          },
          "execution_count": 47
        }
      ]
    },
    {
      "cell_type": "code",
      "metadata": {
        "id": "SXNHHojyioOz",
        "colab_type": "code",
        "outputId": "948f8d69-6046-42ca-e7f2-c0debe52691a",
        "colab": {
          "base_uri": "https://localhost:8080/",
          "height": 33
        }
      },
      "source": [
        "print('The corpus is large. It contain {} words.'.format(len(x_train[0].toarray()[0])))"
      ],
      "execution_count": 48,
      "outputs": [
        {
          "output_type": "stream",
          "text": [
            "The corpus is large. It contain 38314 words.\n"
          ],
          "name": "stdout"
        }
      ]
    },
    {
      "cell_type": "code",
      "metadata": {
        "id": "nXyiPW9EjPLt",
        "colab_type": "code",
        "colab": {}
      },
      "source": [
        "y_train = MoviesTrain[MoviesTrain.columns[10:]]\n",
        "y_test = MoviesTest[MoviesTest.columns[10:]]"
      ],
      "execution_count": 0,
      "outputs": []
    },
    {
      "cell_type": "code",
      "metadata": {
        "id": "1zc1cVg9jPJn",
        "colab_type": "code",
        "outputId": "48825102-c626-431f-9558-461d9c605ac0",
        "colab": {
          "base_uri": "https://localhost:8080/",
          "height": 33
        }
      },
      "source": [
        "len(y_train.columns)\n"
      ],
      "execution_count": 50,
      "outputs": [
        {
          "output_type": "execute_result",
          "data": {
            "text/plain": [
              "15"
            ]
          },
          "metadata": {
            "tags": []
          },
          "execution_count": 50
        }
      ]
    },
    {
      "cell_type": "code",
      "metadata": {
        "id": "02UQ_P-tjPHZ",
        "colab_type": "code",
        "outputId": "30d2cb85-cf76-4555-c3a7-5eb4d5a65cdc",
        "colab": {
          "base_uri": "https://localhost:8080/",
          "height": 33
        }
      },
      "source": [
        "len(y_test.columns)"
      ],
      "execution_count": 51,
      "outputs": [
        {
          "output_type": "execute_result",
          "data": {
            "text/plain": [
              "15"
            ]
          },
          "metadata": {
            "tags": []
          },
          "execution_count": 51
        }
      ]
    },
    {
      "cell_type": "code",
      "metadata": {
        "id": "sTFjQok6jPFX",
        "colab_type": "code",
        "outputId": "5c9272c9-31ef-4890-ccfe-29cd987f42b6",
        "colab": {
          "base_uri": "https://localhost:8080/",
          "height": 47
        }
      },
      "source": [
        "linearSVC=OneVsRestClassifier(LinearSVC(), n_jobs=1)\n",
        "accuracy_LinearSVC=pd.DataFrame(columns=['Genre', 'accuracy_LinearSVC'])\n",
        "accuracy_LinearSVC.head()"
      ],
      "execution_count": 52,
      "outputs": [
        {
          "output_type": "execute_result",
          "data": {
            "text/html": [
              "<div>\n",
              "<style scoped>\n",
              "    .dataframe tbody tr th:only-of-type {\n",
              "        vertical-align: middle;\n",
              "    }\n",
              "\n",
              "    .dataframe tbody tr th {\n",
              "        vertical-align: top;\n",
              "    }\n",
              "\n",
              "    .dataframe thead th {\n",
              "        text-align: right;\n",
              "    }\n",
              "</style>\n",
              "<table border=\"1\" class=\"dataframe\">\n",
              "  <thead>\n",
              "    <tr style=\"text-align: right;\">\n",
              "      <th></th>\n",
              "      <th>Genre</th>\n",
              "      <th>accuracy_LinearSVC</th>\n",
              "    </tr>\n",
              "  </thead>\n",
              "  <tbody>\n",
              "  </tbody>\n",
              "</table>\n",
              "</div>"
            ],
            "text/plain": [
              "Empty DataFrame\n",
              "Columns: [Genre, accuracy_LinearSVC]\n",
              "Index: []"
            ]
          },
          "metadata": {
            "tags": []
          },
          "execution_count": 52
        }
      ]
    },
    {
      "cell_type": "code",
      "metadata": {
        "id": "wWHh1hJgjPC5",
        "colab_type": "code",
        "outputId": "4cef3723-bf40-4f03-d2a1-53cb109ef526",
        "colab": {
          "base_uri": "https://localhost:8080/",
          "height": 538
        }
      },
      "source": [
        "i = 0\n",
        "for genre in mainGenres:\n",
        "    linearSVC.fit(x_train, y_train[genre])\n",
        "    prediction = linearSVC.predict(x_test)\n",
        "    accuracy_LinearSVC.loc[i,'Genre'] = genre\n",
        "    accuracy_LinearSVC.loc[i,'accuracy_LinearSVC'] = accuracy_score(y_test[genre], prediction)\n",
        "    i=i+1"
      ],
      "execution_count": 53,
      "outputs": [
        {
          "output_type": "stream",
          "text": [
            "/usr/local/lib/python3.6/dist-packages/sklearn/svm/base.py:929: ConvergenceWarning: Liblinear failed to converge, increase the number of iterations.\n",
            "  \"the number of iterations.\", ConvergenceWarning)\n",
            "/usr/local/lib/python3.6/dist-packages/sklearn/svm/base.py:929: ConvergenceWarning: Liblinear failed to converge, increase the number of iterations.\n",
            "  \"the number of iterations.\", ConvergenceWarning)\n",
            "/usr/local/lib/python3.6/dist-packages/sklearn/svm/base.py:929: ConvergenceWarning: Liblinear failed to converge, increase the number of iterations.\n",
            "  \"the number of iterations.\", ConvergenceWarning)\n",
            "/usr/local/lib/python3.6/dist-packages/sklearn/svm/base.py:929: ConvergenceWarning: Liblinear failed to converge, increase the number of iterations.\n",
            "  \"the number of iterations.\", ConvergenceWarning)\n",
            "/usr/local/lib/python3.6/dist-packages/sklearn/svm/base.py:929: ConvergenceWarning: Liblinear failed to converge, increase the number of iterations.\n",
            "  \"the number of iterations.\", ConvergenceWarning)\n",
            "/usr/local/lib/python3.6/dist-packages/sklearn/svm/base.py:929: ConvergenceWarning: Liblinear failed to converge, increase the number of iterations.\n",
            "  \"the number of iterations.\", ConvergenceWarning)\n",
            "/usr/local/lib/python3.6/dist-packages/sklearn/svm/base.py:929: ConvergenceWarning: Liblinear failed to converge, increase the number of iterations.\n",
            "  \"the number of iterations.\", ConvergenceWarning)\n",
            "/usr/local/lib/python3.6/dist-packages/sklearn/svm/base.py:929: ConvergenceWarning: Liblinear failed to converge, increase the number of iterations.\n",
            "  \"the number of iterations.\", ConvergenceWarning)\n",
            "/usr/local/lib/python3.6/dist-packages/sklearn/svm/base.py:929: ConvergenceWarning: Liblinear failed to converge, increase the number of iterations.\n",
            "  \"the number of iterations.\", ConvergenceWarning)\n",
            "/usr/local/lib/python3.6/dist-packages/sklearn/svm/base.py:929: ConvergenceWarning: Liblinear failed to converge, increase the number of iterations.\n",
            "  \"the number of iterations.\", ConvergenceWarning)\n",
            "/usr/local/lib/python3.6/dist-packages/sklearn/svm/base.py:929: ConvergenceWarning: Liblinear failed to converge, increase the number of iterations.\n",
            "  \"the number of iterations.\", ConvergenceWarning)\n",
            "/usr/local/lib/python3.6/dist-packages/sklearn/svm/base.py:929: ConvergenceWarning: Liblinear failed to converge, increase the number of iterations.\n",
            "  \"the number of iterations.\", ConvergenceWarning)\n",
            "/usr/local/lib/python3.6/dist-packages/sklearn/svm/base.py:929: ConvergenceWarning: Liblinear failed to converge, increase the number of iterations.\n",
            "  \"the number of iterations.\", ConvergenceWarning)\n",
            "/usr/local/lib/python3.6/dist-packages/sklearn/svm/base.py:929: ConvergenceWarning: Liblinear failed to converge, increase the number of iterations.\n",
            "  \"the number of iterations.\", ConvergenceWarning)\n",
            "/usr/local/lib/python3.6/dist-packages/sklearn/svm/base.py:929: ConvergenceWarning: Liblinear failed to converge, increase the number of iterations.\n",
            "  \"the number of iterations.\", ConvergenceWarning)\n"
          ],
          "name": "stderr"
        }
      ]
    },
    {
      "cell_type": "code",
      "metadata": {
        "id": "U10rsySTjPAm",
        "colab_type": "code",
        "outputId": "5c886c42-c9aa-448f-f95b-c43828df8df5",
        "colab": {
          "base_uri": "https://localhost:8080/",
          "height": 494
        }
      },
      "source": [
        "accuracy_LinearSVC"
      ],
      "execution_count": 54,
      "outputs": [
        {
          "output_type": "execute_result",
          "data": {
            "text/html": [
              "<div>\n",
              "<style scoped>\n",
              "    .dataframe tbody tr th:only-of-type {\n",
              "        vertical-align: middle;\n",
              "    }\n",
              "\n",
              "    .dataframe tbody tr th {\n",
              "        vertical-align: top;\n",
              "    }\n",
              "\n",
              "    .dataframe thead th {\n",
              "        text-align: right;\n",
              "    }\n",
              "</style>\n",
              "<table border=\"1\" class=\"dataframe\">\n",
              "  <thead>\n",
              "    <tr style=\"text-align: right;\">\n",
              "      <th></th>\n",
              "      <th>Genre</th>\n",
              "      <th>accuracy_LinearSVC</th>\n",
              "    </tr>\n",
              "  </thead>\n",
              "  <tbody>\n",
              "    <tr>\n",
              "      <th>0</th>\n",
              "      <td>nan</td>\n",
              "      <td>0.344795</td>\n",
              "    </tr>\n",
              "    <tr>\n",
              "      <th>1</th>\n",
              "      <td>Drama</td>\n",
              "      <td>0.541789</td>\n",
              "    </tr>\n",
              "    <tr>\n",
              "      <th>2</th>\n",
              "      <td>Comedy</td>\n",
              "      <td>0.676613</td>\n",
              "    </tr>\n",
              "    <tr>\n",
              "      <th>3</th>\n",
              "      <td>Thriller</td>\n",
              "      <td>0.830792</td>\n",
              "    </tr>\n",
              "    <tr>\n",
              "      <th>4</th>\n",
              "      <td>Romance</td>\n",
              "      <td>0.830865</td>\n",
              "    </tr>\n",
              "    <tr>\n",
              "      <th>5</th>\n",
              "      <td>Action</td>\n",
              "      <td>0.857478</td>\n",
              "    </tr>\n",
              "    <tr>\n",
              "      <th>6</th>\n",
              "      <td>Crime</td>\n",
              "      <td>0.880352</td>\n",
              "    </tr>\n",
              "    <tr>\n",
              "      <th>7</th>\n",
              "      <td>Horror</td>\n",
              "      <td>0.892595</td>\n",
              "    </tr>\n",
              "    <tr>\n",
              "      <th>8</th>\n",
              "      <td>Documentary</td>\n",
              "      <td>0.902933</td>\n",
              "    </tr>\n",
              "    <tr>\n",
              "      <th>9</th>\n",
              "      <td>Adventure</td>\n",
              "      <td>0.907991</td>\n",
              "    </tr>\n",
              "    <tr>\n",
              "      <th>10</th>\n",
              "      <td>SciFi</td>\n",
              "      <td>0.928079</td>\n",
              "    </tr>\n",
              "    <tr>\n",
              "      <th>11</th>\n",
              "      <td>Mystery</td>\n",
              "      <td>0.93871</td>\n",
              "    </tr>\n",
              "    <tr>\n",
              "      <th>12</th>\n",
              "      <td>Fantasy</td>\n",
              "      <td>0.943475</td>\n",
              "    </tr>\n",
              "    <tr>\n",
              "      <th>13</th>\n",
              "      <td>War</td>\n",
              "      <td>0.95154</td>\n",
              "    </tr>\n",
              "    <tr>\n",
              "      <th>14</th>\n",
              "      <td>Children</td>\n",
              "      <td>0.956525</td>\n",
              "    </tr>\n",
              "  </tbody>\n",
              "</table>\n",
              "</div>"
            ],
            "text/plain": [
              "          Genre accuracy_LinearSVC\n",
              "0           nan           0.344795\n",
              "1         Drama           0.541789\n",
              "2        Comedy           0.676613\n",
              "3      Thriller           0.830792\n",
              "4       Romance           0.830865\n",
              "5        Action           0.857478\n",
              "6         Crime           0.880352\n",
              "7        Horror           0.892595\n",
              "8   Documentary           0.902933\n",
              "9     Adventure           0.907991\n",
              "10        SciFi           0.928079\n",
              "11      Mystery            0.93871\n",
              "12      Fantasy           0.943475\n",
              "13          War            0.95154\n",
              "14     Children           0.956525"
            ]
          },
          "metadata": {
            "tags": []
          },
          "execution_count": 54
        }
      ]
    },
    {
      "cell_type": "code",
      "metadata": {
        "id": "xPl_Xev2jO9s",
        "colab_type": "code",
        "outputId": "47007cb5-db48-4e00-87f2-8a82aa64a5ae",
        "colab": {
          "base_uri": "https://localhost:8080/",
          "height": 47
        }
      },
      "source": [
        "multinomialNB=OneVsRestClassifier(MultinomialNB(fit_prior=False, class_prior=None))\n",
        "\n",
        "\n",
        "\n",
        "accuracy_multinomialNB=pd.DataFrame(columns=['Genre', 'accuracy_multinomialNB'])\n",
        "accuracy_multinomialNB.head()"
      ],
      "execution_count": 55,
      "outputs": [
        {
          "output_type": "execute_result",
          "data": {
            "text/html": [
              "<div>\n",
              "<style scoped>\n",
              "    .dataframe tbody tr th:only-of-type {\n",
              "        vertical-align: middle;\n",
              "    }\n",
              "\n",
              "    .dataframe tbody tr th {\n",
              "        vertical-align: top;\n",
              "    }\n",
              "\n",
              "    .dataframe thead th {\n",
              "        text-align: right;\n",
              "    }\n",
              "</style>\n",
              "<table border=\"1\" class=\"dataframe\">\n",
              "  <thead>\n",
              "    <tr style=\"text-align: right;\">\n",
              "      <th></th>\n",
              "      <th>Genre</th>\n",
              "      <th>accuracy_multinomialNB</th>\n",
              "    </tr>\n",
              "  </thead>\n",
              "  <tbody>\n",
              "  </tbody>\n",
              "</table>\n",
              "</div>"
            ],
            "text/plain": [
              "Empty DataFrame\n",
              "Columns: [Genre, accuracy_multinomialNB]\n",
              "Index: []"
            ]
          },
          "metadata": {
            "tags": []
          },
          "execution_count": 55
        }
      ]
    },
    {
      "cell_type": "code",
      "metadata": {
        "id": "0ajey4gklaC9",
        "colab_type": "code",
        "colab": {}
      },
      "source": [
        "i = 0\n",
        "for genre in mainGenres:\n",
        "    multinomialNB.fit(x_train, y_train[genre])\n",
        "    prediction = multinomialNB.predict(x_test)\n",
        "    accuracy_multinomialNB.loc[i,'Genre'] = genre\n",
        "    accuracy_multinomialNB.loc[i,'accuracy_multinomialNB'] = accuracy_score(y_test[genre], prediction)\n",
        "    i=i+1\n",
        "  "
      ],
      "execution_count": 0,
      "outputs": []
    },
    {
      "cell_type": "code",
      "metadata": {
        "id": "OiY-sFFbpMFX",
        "colab_type": "code",
        "outputId": "fe9815aa-c300-4be1-c72f-042e9d380fd9",
        "colab": {
          "base_uri": "https://localhost:8080/",
          "height": 494
        }
      },
      "source": [
        "accuracy_multinomialNB"
      ],
      "execution_count": 57,
      "outputs": [
        {
          "output_type": "execute_result",
          "data": {
            "text/html": [
              "<div>\n",
              "<style scoped>\n",
              "    .dataframe tbody tr th:only-of-type {\n",
              "        vertical-align: middle;\n",
              "    }\n",
              "\n",
              "    .dataframe tbody tr th {\n",
              "        vertical-align: top;\n",
              "    }\n",
              "\n",
              "    .dataframe thead th {\n",
              "        text-align: right;\n",
              "    }\n",
              "</style>\n",
              "<table border=\"1\" class=\"dataframe\">\n",
              "  <thead>\n",
              "    <tr style=\"text-align: right;\">\n",
              "      <th></th>\n",
              "      <th>Genre</th>\n",
              "      <th>accuracy_multinomialNB</th>\n",
              "    </tr>\n",
              "  </thead>\n",
              "  <tbody>\n",
              "    <tr>\n",
              "      <th>0</th>\n",
              "      <td>nan</td>\n",
              "      <td>0.279985</td>\n",
              "    </tr>\n",
              "    <tr>\n",
              "      <th>1</th>\n",
              "      <td>Drama</td>\n",
              "      <td>0.488856</td>\n",
              "    </tr>\n",
              "    <tr>\n",
              "      <th>2</th>\n",
              "      <td>Comedy</td>\n",
              "      <td>0.594575</td>\n",
              "    </tr>\n",
              "    <tr>\n",
              "      <th>3</th>\n",
              "      <td>Thriller</td>\n",
              "      <td>0.743915</td>\n",
              "    </tr>\n",
              "    <tr>\n",
              "      <th>4</th>\n",
              "      <td>Romance</td>\n",
              "      <td>0.745894</td>\n",
              "    </tr>\n",
              "    <tr>\n",
              "      <th>5</th>\n",
              "      <td>Action</td>\n",
              "      <td>0.77588</td>\n",
              "    </tr>\n",
              "    <tr>\n",
              "      <th>6</th>\n",
              "      <td>Crime</td>\n",
              "      <td>0.811657</td>\n",
              "    </tr>\n",
              "    <tr>\n",
              "      <th>7</th>\n",
              "      <td>Horror</td>\n",
              "      <td>0.812757</td>\n",
              "    </tr>\n",
              "    <tr>\n",
              "      <th>8</th>\n",
              "      <td>Documentary</td>\n",
              "      <td>0.830865</td>\n",
              "    </tr>\n",
              "    <tr>\n",
              "      <th>9</th>\n",
              "      <td>Adventure</td>\n",
              "      <td>0.839076</td>\n",
              "    </tr>\n",
              "    <tr>\n",
              "      <th>10</th>\n",
              "      <td>SciFi</td>\n",
              "      <td>0.863123</td>\n",
              "    </tr>\n",
              "    <tr>\n",
              "      <th>11</th>\n",
              "      <td>Mystery</td>\n",
              "      <td>0.890689</td>\n",
              "    </tr>\n",
              "    <tr>\n",
              "      <th>12</th>\n",
              "      <td>Fantasy</td>\n",
              "      <td>0.88783</td>\n",
              "    </tr>\n",
              "    <tr>\n",
              "      <th>13</th>\n",
              "      <td>War</td>\n",
              "      <td>0.896261</td>\n",
              "    </tr>\n",
              "    <tr>\n",
              "      <th>14</th>\n",
              "      <td>Children</td>\n",
              "      <td>0.90066</td>\n",
              "    </tr>\n",
              "  </tbody>\n",
              "</table>\n",
              "</div>"
            ],
            "text/plain": [
              "          Genre accuracy_multinomialNB\n",
              "0           nan               0.279985\n",
              "1         Drama               0.488856\n",
              "2        Comedy               0.594575\n",
              "3      Thriller               0.743915\n",
              "4       Romance               0.745894\n",
              "5        Action                0.77588\n",
              "6         Crime               0.811657\n",
              "7        Horror               0.812757\n",
              "8   Documentary               0.830865\n",
              "9     Adventure               0.839076\n",
              "10        SciFi               0.863123\n",
              "11      Mystery               0.890689\n",
              "12      Fantasy                0.88783\n",
              "13          War               0.896261\n",
              "14     Children                0.90066"
            ]
          },
          "metadata": {
            "tags": []
          },
          "execution_count": 57
        }
      ]
    },
    {
      "cell_type": "code",
      "metadata": {
        "id": "9MHSqv3JlaAk",
        "colab_type": "code",
        "colab": {}
      },
      "source": [
        "accuracy_svc_mnb = pd.merge(accuracy_multinomialNB, accuracy_LinearSVC, on='Genre', how='inner')"
      ],
      "execution_count": 0,
      "outputs": []
    },
    {
      "cell_type": "code",
      "metadata": {
        "id": "QYblHP8OlZ-h",
        "colab_type": "code",
        "outputId": "d71bae81-30d5-413b-e195-60d701dc4070",
        "colab": {
          "base_uri": "https://localhost:8080/",
          "height": 494
        }
      },
      "source": [
        "accuracy_svc_mnb"
      ],
      "execution_count": 59,
      "outputs": [
        {
          "output_type": "execute_result",
          "data": {
            "text/html": [
              "<div>\n",
              "<style scoped>\n",
              "    .dataframe tbody tr th:only-of-type {\n",
              "        vertical-align: middle;\n",
              "    }\n",
              "\n",
              "    .dataframe tbody tr th {\n",
              "        vertical-align: top;\n",
              "    }\n",
              "\n",
              "    .dataframe thead th {\n",
              "        text-align: right;\n",
              "    }\n",
              "</style>\n",
              "<table border=\"1\" class=\"dataframe\">\n",
              "  <thead>\n",
              "    <tr style=\"text-align: right;\">\n",
              "      <th></th>\n",
              "      <th>Genre</th>\n",
              "      <th>accuracy_multinomialNB</th>\n",
              "      <th>accuracy_LinearSVC</th>\n",
              "    </tr>\n",
              "  </thead>\n",
              "  <tbody>\n",
              "    <tr>\n",
              "      <th>0</th>\n",
              "      <td>nan</td>\n",
              "      <td>0.279985</td>\n",
              "      <td>0.344795</td>\n",
              "    </tr>\n",
              "    <tr>\n",
              "      <th>1</th>\n",
              "      <td>Drama</td>\n",
              "      <td>0.488856</td>\n",
              "      <td>0.541789</td>\n",
              "    </tr>\n",
              "    <tr>\n",
              "      <th>2</th>\n",
              "      <td>Comedy</td>\n",
              "      <td>0.594575</td>\n",
              "      <td>0.676613</td>\n",
              "    </tr>\n",
              "    <tr>\n",
              "      <th>3</th>\n",
              "      <td>Thriller</td>\n",
              "      <td>0.743915</td>\n",
              "      <td>0.830792</td>\n",
              "    </tr>\n",
              "    <tr>\n",
              "      <th>4</th>\n",
              "      <td>Romance</td>\n",
              "      <td>0.745894</td>\n",
              "      <td>0.830865</td>\n",
              "    </tr>\n",
              "    <tr>\n",
              "      <th>5</th>\n",
              "      <td>Action</td>\n",
              "      <td>0.77588</td>\n",
              "      <td>0.857478</td>\n",
              "    </tr>\n",
              "    <tr>\n",
              "      <th>6</th>\n",
              "      <td>Crime</td>\n",
              "      <td>0.811657</td>\n",
              "      <td>0.880352</td>\n",
              "    </tr>\n",
              "    <tr>\n",
              "      <th>7</th>\n",
              "      <td>Horror</td>\n",
              "      <td>0.812757</td>\n",
              "      <td>0.892595</td>\n",
              "    </tr>\n",
              "    <tr>\n",
              "      <th>8</th>\n",
              "      <td>Documentary</td>\n",
              "      <td>0.830865</td>\n",
              "      <td>0.902933</td>\n",
              "    </tr>\n",
              "    <tr>\n",
              "      <th>9</th>\n",
              "      <td>Adventure</td>\n",
              "      <td>0.839076</td>\n",
              "      <td>0.907991</td>\n",
              "    </tr>\n",
              "    <tr>\n",
              "      <th>10</th>\n",
              "      <td>SciFi</td>\n",
              "      <td>0.863123</td>\n",
              "      <td>0.928079</td>\n",
              "    </tr>\n",
              "    <tr>\n",
              "      <th>11</th>\n",
              "      <td>Mystery</td>\n",
              "      <td>0.890689</td>\n",
              "      <td>0.93871</td>\n",
              "    </tr>\n",
              "    <tr>\n",
              "      <th>12</th>\n",
              "      <td>Fantasy</td>\n",
              "      <td>0.88783</td>\n",
              "      <td>0.943475</td>\n",
              "    </tr>\n",
              "    <tr>\n",
              "      <th>13</th>\n",
              "      <td>War</td>\n",
              "      <td>0.896261</td>\n",
              "      <td>0.95154</td>\n",
              "    </tr>\n",
              "    <tr>\n",
              "      <th>14</th>\n",
              "      <td>Children</td>\n",
              "      <td>0.90066</td>\n",
              "      <td>0.956525</td>\n",
              "    </tr>\n",
              "  </tbody>\n",
              "</table>\n",
              "</div>"
            ],
            "text/plain": [
              "          Genre accuracy_multinomialNB accuracy_LinearSVC\n",
              "0           nan               0.279985           0.344795\n",
              "1         Drama               0.488856           0.541789\n",
              "2        Comedy               0.594575           0.676613\n",
              "3      Thriller               0.743915           0.830792\n",
              "4       Romance               0.745894           0.830865\n",
              "5        Action                0.77588           0.857478\n",
              "6         Crime               0.811657           0.880352\n",
              "7        Horror               0.812757           0.892595\n",
              "8   Documentary               0.830865           0.902933\n",
              "9     Adventure               0.839076           0.907991\n",
              "10        SciFi               0.863123           0.928079\n",
              "11      Mystery               0.890689            0.93871\n",
              "12      Fantasy                0.88783           0.943475\n",
              "13          War               0.896261            0.95154\n",
              "14     Children                0.90066           0.956525"
            ]
          },
          "metadata": {
            "tags": []
          },
          "execution_count": 59
        }
      ]
    },
    {
      "cell_type": "code",
      "metadata": {
        "id": "cGPONasVlZ75",
        "colab_type": "code",
        "colab": {}
      },
      "source": [
        "accuracy_multinomialNB1 = accuracy_multinomialNB\n",
        "accuracy_multinomialNB1.columns = ['Genre', 'accuracy']\n",
        "accuracy_multinomialNB1['classifier'] = 'multinomialNB'\n"
      ],
      "execution_count": 0,
      "outputs": []
    },
    {
      "cell_type": "code",
      "metadata": {
        "id": "LIeGWhpq5d4D",
        "colab_type": "code",
        "outputId": "2f10b14a-9fef-488f-faae-375c25dac941",
        "colab": {
          "base_uri": "https://localhost:8080/",
          "height": 494
        }
      },
      "source": [
        "accuracy_multinomialNB1"
      ],
      "execution_count": 61,
      "outputs": [
        {
          "output_type": "execute_result",
          "data": {
            "text/html": [
              "<div>\n",
              "<style scoped>\n",
              "    .dataframe tbody tr th:only-of-type {\n",
              "        vertical-align: middle;\n",
              "    }\n",
              "\n",
              "    .dataframe tbody tr th {\n",
              "        vertical-align: top;\n",
              "    }\n",
              "\n",
              "    .dataframe thead th {\n",
              "        text-align: right;\n",
              "    }\n",
              "</style>\n",
              "<table border=\"1\" class=\"dataframe\">\n",
              "  <thead>\n",
              "    <tr style=\"text-align: right;\">\n",
              "      <th></th>\n",
              "      <th>Genre</th>\n",
              "      <th>accuracy</th>\n",
              "      <th>classifier</th>\n",
              "    </tr>\n",
              "  </thead>\n",
              "  <tbody>\n",
              "    <tr>\n",
              "      <th>0</th>\n",
              "      <td>nan</td>\n",
              "      <td>0.279985</td>\n",
              "      <td>multinomialNB</td>\n",
              "    </tr>\n",
              "    <tr>\n",
              "      <th>1</th>\n",
              "      <td>Drama</td>\n",
              "      <td>0.488856</td>\n",
              "      <td>multinomialNB</td>\n",
              "    </tr>\n",
              "    <tr>\n",
              "      <th>2</th>\n",
              "      <td>Comedy</td>\n",
              "      <td>0.594575</td>\n",
              "      <td>multinomialNB</td>\n",
              "    </tr>\n",
              "    <tr>\n",
              "      <th>3</th>\n",
              "      <td>Thriller</td>\n",
              "      <td>0.743915</td>\n",
              "      <td>multinomialNB</td>\n",
              "    </tr>\n",
              "    <tr>\n",
              "      <th>4</th>\n",
              "      <td>Romance</td>\n",
              "      <td>0.745894</td>\n",
              "      <td>multinomialNB</td>\n",
              "    </tr>\n",
              "    <tr>\n",
              "      <th>5</th>\n",
              "      <td>Action</td>\n",
              "      <td>0.77588</td>\n",
              "      <td>multinomialNB</td>\n",
              "    </tr>\n",
              "    <tr>\n",
              "      <th>6</th>\n",
              "      <td>Crime</td>\n",
              "      <td>0.811657</td>\n",
              "      <td>multinomialNB</td>\n",
              "    </tr>\n",
              "    <tr>\n",
              "      <th>7</th>\n",
              "      <td>Horror</td>\n",
              "      <td>0.812757</td>\n",
              "      <td>multinomialNB</td>\n",
              "    </tr>\n",
              "    <tr>\n",
              "      <th>8</th>\n",
              "      <td>Documentary</td>\n",
              "      <td>0.830865</td>\n",
              "      <td>multinomialNB</td>\n",
              "    </tr>\n",
              "    <tr>\n",
              "      <th>9</th>\n",
              "      <td>Adventure</td>\n",
              "      <td>0.839076</td>\n",
              "      <td>multinomialNB</td>\n",
              "    </tr>\n",
              "    <tr>\n",
              "      <th>10</th>\n",
              "      <td>SciFi</td>\n",
              "      <td>0.863123</td>\n",
              "      <td>multinomialNB</td>\n",
              "    </tr>\n",
              "    <tr>\n",
              "      <th>11</th>\n",
              "      <td>Mystery</td>\n",
              "      <td>0.890689</td>\n",
              "      <td>multinomialNB</td>\n",
              "    </tr>\n",
              "    <tr>\n",
              "      <th>12</th>\n",
              "      <td>Fantasy</td>\n",
              "      <td>0.88783</td>\n",
              "      <td>multinomialNB</td>\n",
              "    </tr>\n",
              "    <tr>\n",
              "      <th>13</th>\n",
              "      <td>War</td>\n",
              "      <td>0.896261</td>\n",
              "      <td>multinomialNB</td>\n",
              "    </tr>\n",
              "    <tr>\n",
              "      <th>14</th>\n",
              "      <td>Children</td>\n",
              "      <td>0.90066</td>\n",
              "      <td>multinomialNB</td>\n",
              "    </tr>\n",
              "  </tbody>\n",
              "</table>\n",
              "</div>"
            ],
            "text/plain": [
              "          Genre  accuracy     classifier\n",
              "0           nan  0.279985  multinomialNB\n",
              "1         Drama  0.488856  multinomialNB\n",
              "2        Comedy  0.594575  multinomialNB\n",
              "3      Thriller  0.743915  multinomialNB\n",
              "4       Romance  0.745894  multinomialNB\n",
              "5        Action   0.77588  multinomialNB\n",
              "6         Crime  0.811657  multinomialNB\n",
              "7        Horror  0.812757  multinomialNB\n",
              "8   Documentary  0.830865  multinomialNB\n",
              "9     Adventure  0.839076  multinomialNB\n",
              "10        SciFi  0.863123  multinomialNB\n",
              "11      Mystery  0.890689  multinomialNB\n",
              "12      Fantasy   0.88783  multinomialNB\n",
              "13          War  0.896261  multinomialNB\n",
              "14     Children   0.90066  multinomialNB"
            ]
          },
          "metadata": {
            "tags": []
          },
          "execution_count": 61
        }
      ]
    },
    {
      "cell_type": "code",
      "metadata": {
        "id": "xKFVeITolZ5X",
        "colab_type": "code",
        "colab": {}
      },
      "source": [
        "accuracy_LinearSVC1 = accuracy_LinearSVC\n",
        "accuracy_LinearSVC1.columns = ['Genre', 'accuracy']\n",
        "accuracy_LinearSVC1['classifier'] = 'linearSVC'\n"
      ],
      "execution_count": 0,
      "outputs": []
    },
    {
      "cell_type": "code",
      "metadata": {
        "id": "gaVasaA25th1",
        "colab_type": "code",
        "outputId": "4c34b49a-8320-4853-e949-c5973c627c57",
        "colab": {
          "base_uri": "https://localhost:8080/",
          "height": 494
        }
      },
      "source": [
        "accuracy_LinearSVC1"
      ],
      "execution_count": 63,
      "outputs": [
        {
          "output_type": "execute_result",
          "data": {
            "text/html": [
              "<div>\n",
              "<style scoped>\n",
              "    .dataframe tbody tr th:only-of-type {\n",
              "        vertical-align: middle;\n",
              "    }\n",
              "\n",
              "    .dataframe tbody tr th {\n",
              "        vertical-align: top;\n",
              "    }\n",
              "\n",
              "    .dataframe thead th {\n",
              "        text-align: right;\n",
              "    }\n",
              "</style>\n",
              "<table border=\"1\" class=\"dataframe\">\n",
              "  <thead>\n",
              "    <tr style=\"text-align: right;\">\n",
              "      <th></th>\n",
              "      <th>Genre</th>\n",
              "      <th>accuracy</th>\n",
              "      <th>classifier</th>\n",
              "    </tr>\n",
              "  </thead>\n",
              "  <tbody>\n",
              "    <tr>\n",
              "      <th>0</th>\n",
              "      <td>nan</td>\n",
              "      <td>0.344795</td>\n",
              "      <td>linearSVC</td>\n",
              "    </tr>\n",
              "    <tr>\n",
              "      <th>1</th>\n",
              "      <td>Drama</td>\n",
              "      <td>0.541789</td>\n",
              "      <td>linearSVC</td>\n",
              "    </tr>\n",
              "    <tr>\n",
              "      <th>2</th>\n",
              "      <td>Comedy</td>\n",
              "      <td>0.676613</td>\n",
              "      <td>linearSVC</td>\n",
              "    </tr>\n",
              "    <tr>\n",
              "      <th>3</th>\n",
              "      <td>Thriller</td>\n",
              "      <td>0.830792</td>\n",
              "      <td>linearSVC</td>\n",
              "    </tr>\n",
              "    <tr>\n",
              "      <th>4</th>\n",
              "      <td>Romance</td>\n",
              "      <td>0.830865</td>\n",
              "      <td>linearSVC</td>\n",
              "    </tr>\n",
              "    <tr>\n",
              "      <th>5</th>\n",
              "      <td>Action</td>\n",
              "      <td>0.857478</td>\n",
              "      <td>linearSVC</td>\n",
              "    </tr>\n",
              "    <tr>\n",
              "      <th>6</th>\n",
              "      <td>Crime</td>\n",
              "      <td>0.880352</td>\n",
              "      <td>linearSVC</td>\n",
              "    </tr>\n",
              "    <tr>\n",
              "      <th>7</th>\n",
              "      <td>Horror</td>\n",
              "      <td>0.892595</td>\n",
              "      <td>linearSVC</td>\n",
              "    </tr>\n",
              "    <tr>\n",
              "      <th>8</th>\n",
              "      <td>Documentary</td>\n",
              "      <td>0.902933</td>\n",
              "      <td>linearSVC</td>\n",
              "    </tr>\n",
              "    <tr>\n",
              "      <th>9</th>\n",
              "      <td>Adventure</td>\n",
              "      <td>0.907991</td>\n",
              "      <td>linearSVC</td>\n",
              "    </tr>\n",
              "    <tr>\n",
              "      <th>10</th>\n",
              "      <td>SciFi</td>\n",
              "      <td>0.928079</td>\n",
              "      <td>linearSVC</td>\n",
              "    </tr>\n",
              "    <tr>\n",
              "      <th>11</th>\n",
              "      <td>Mystery</td>\n",
              "      <td>0.93871</td>\n",
              "      <td>linearSVC</td>\n",
              "    </tr>\n",
              "    <tr>\n",
              "      <th>12</th>\n",
              "      <td>Fantasy</td>\n",
              "      <td>0.943475</td>\n",
              "      <td>linearSVC</td>\n",
              "    </tr>\n",
              "    <tr>\n",
              "      <th>13</th>\n",
              "      <td>War</td>\n",
              "      <td>0.95154</td>\n",
              "      <td>linearSVC</td>\n",
              "    </tr>\n",
              "    <tr>\n",
              "      <th>14</th>\n",
              "      <td>Children</td>\n",
              "      <td>0.956525</td>\n",
              "      <td>linearSVC</td>\n",
              "    </tr>\n",
              "  </tbody>\n",
              "</table>\n",
              "</div>"
            ],
            "text/plain": [
              "          Genre  accuracy classifier\n",
              "0           nan  0.344795  linearSVC\n",
              "1         Drama  0.541789  linearSVC\n",
              "2        Comedy  0.676613  linearSVC\n",
              "3      Thriller  0.830792  linearSVC\n",
              "4       Romance  0.830865  linearSVC\n",
              "5        Action  0.857478  linearSVC\n",
              "6         Crime  0.880352  linearSVC\n",
              "7        Horror  0.892595  linearSVC\n",
              "8   Documentary  0.902933  linearSVC\n",
              "9     Adventure  0.907991  linearSVC\n",
              "10        SciFi  0.928079  linearSVC\n",
              "11      Mystery   0.93871  linearSVC\n",
              "12      Fantasy  0.943475  linearSVC\n",
              "13          War   0.95154  linearSVC\n",
              "14     Children  0.956525  linearSVC"
            ]
          },
          "metadata": {
            "tags": []
          },
          "execution_count": 63
        }
      ]
    },
    {
      "cell_type": "code",
      "metadata": {
        "id": "sDd8q9NYlZ3S",
        "colab_type": "code",
        "outputId": "91cca705-4c3f-4d89-f4ab-b7ef4fc594ef",
        "colab": {
          "base_uri": "https://localhost:8080/",
          "height": 942
        }
      },
      "source": [
        "accu_mnb_svc = accuracy_multinomialNB1.append(accuracy_LinearSVC1)\n",
        "accu_mnb_svc"
      ],
      "execution_count": 64,
      "outputs": [
        {
          "output_type": "execute_result",
          "data": {
            "text/html": [
              "<div>\n",
              "<style scoped>\n",
              "    .dataframe tbody tr th:only-of-type {\n",
              "        vertical-align: middle;\n",
              "    }\n",
              "\n",
              "    .dataframe tbody tr th {\n",
              "        vertical-align: top;\n",
              "    }\n",
              "\n",
              "    .dataframe thead th {\n",
              "        text-align: right;\n",
              "    }\n",
              "</style>\n",
              "<table border=\"1\" class=\"dataframe\">\n",
              "  <thead>\n",
              "    <tr style=\"text-align: right;\">\n",
              "      <th></th>\n",
              "      <th>Genre</th>\n",
              "      <th>accuracy</th>\n",
              "      <th>classifier</th>\n",
              "    </tr>\n",
              "  </thead>\n",
              "  <tbody>\n",
              "    <tr>\n",
              "      <th>0</th>\n",
              "      <td>nan</td>\n",
              "      <td>0.279985</td>\n",
              "      <td>multinomialNB</td>\n",
              "    </tr>\n",
              "    <tr>\n",
              "      <th>1</th>\n",
              "      <td>Drama</td>\n",
              "      <td>0.488856</td>\n",
              "      <td>multinomialNB</td>\n",
              "    </tr>\n",
              "    <tr>\n",
              "      <th>2</th>\n",
              "      <td>Comedy</td>\n",
              "      <td>0.594575</td>\n",
              "      <td>multinomialNB</td>\n",
              "    </tr>\n",
              "    <tr>\n",
              "      <th>3</th>\n",
              "      <td>Thriller</td>\n",
              "      <td>0.743915</td>\n",
              "      <td>multinomialNB</td>\n",
              "    </tr>\n",
              "    <tr>\n",
              "      <th>4</th>\n",
              "      <td>Romance</td>\n",
              "      <td>0.745894</td>\n",
              "      <td>multinomialNB</td>\n",
              "    </tr>\n",
              "    <tr>\n",
              "      <th>5</th>\n",
              "      <td>Action</td>\n",
              "      <td>0.77588</td>\n",
              "      <td>multinomialNB</td>\n",
              "    </tr>\n",
              "    <tr>\n",
              "      <th>6</th>\n",
              "      <td>Crime</td>\n",
              "      <td>0.811657</td>\n",
              "      <td>multinomialNB</td>\n",
              "    </tr>\n",
              "    <tr>\n",
              "      <th>7</th>\n",
              "      <td>Horror</td>\n",
              "      <td>0.812757</td>\n",
              "      <td>multinomialNB</td>\n",
              "    </tr>\n",
              "    <tr>\n",
              "      <th>8</th>\n",
              "      <td>Documentary</td>\n",
              "      <td>0.830865</td>\n",
              "      <td>multinomialNB</td>\n",
              "    </tr>\n",
              "    <tr>\n",
              "      <th>9</th>\n",
              "      <td>Adventure</td>\n",
              "      <td>0.839076</td>\n",
              "      <td>multinomialNB</td>\n",
              "    </tr>\n",
              "    <tr>\n",
              "      <th>10</th>\n",
              "      <td>SciFi</td>\n",
              "      <td>0.863123</td>\n",
              "      <td>multinomialNB</td>\n",
              "    </tr>\n",
              "    <tr>\n",
              "      <th>11</th>\n",
              "      <td>Mystery</td>\n",
              "      <td>0.890689</td>\n",
              "      <td>multinomialNB</td>\n",
              "    </tr>\n",
              "    <tr>\n",
              "      <th>12</th>\n",
              "      <td>Fantasy</td>\n",
              "      <td>0.88783</td>\n",
              "      <td>multinomialNB</td>\n",
              "    </tr>\n",
              "    <tr>\n",
              "      <th>13</th>\n",
              "      <td>War</td>\n",
              "      <td>0.896261</td>\n",
              "      <td>multinomialNB</td>\n",
              "    </tr>\n",
              "    <tr>\n",
              "      <th>14</th>\n",
              "      <td>Children</td>\n",
              "      <td>0.90066</td>\n",
              "      <td>multinomialNB</td>\n",
              "    </tr>\n",
              "    <tr>\n",
              "      <th>0</th>\n",
              "      <td>nan</td>\n",
              "      <td>0.344795</td>\n",
              "      <td>linearSVC</td>\n",
              "    </tr>\n",
              "    <tr>\n",
              "      <th>1</th>\n",
              "      <td>Drama</td>\n",
              "      <td>0.541789</td>\n",
              "      <td>linearSVC</td>\n",
              "    </tr>\n",
              "    <tr>\n",
              "      <th>2</th>\n",
              "      <td>Comedy</td>\n",
              "      <td>0.676613</td>\n",
              "      <td>linearSVC</td>\n",
              "    </tr>\n",
              "    <tr>\n",
              "      <th>3</th>\n",
              "      <td>Thriller</td>\n",
              "      <td>0.830792</td>\n",
              "      <td>linearSVC</td>\n",
              "    </tr>\n",
              "    <tr>\n",
              "      <th>4</th>\n",
              "      <td>Romance</td>\n",
              "      <td>0.830865</td>\n",
              "      <td>linearSVC</td>\n",
              "    </tr>\n",
              "    <tr>\n",
              "      <th>5</th>\n",
              "      <td>Action</td>\n",
              "      <td>0.857478</td>\n",
              "      <td>linearSVC</td>\n",
              "    </tr>\n",
              "    <tr>\n",
              "      <th>6</th>\n",
              "      <td>Crime</td>\n",
              "      <td>0.880352</td>\n",
              "      <td>linearSVC</td>\n",
              "    </tr>\n",
              "    <tr>\n",
              "      <th>7</th>\n",
              "      <td>Horror</td>\n",
              "      <td>0.892595</td>\n",
              "      <td>linearSVC</td>\n",
              "    </tr>\n",
              "    <tr>\n",
              "      <th>8</th>\n",
              "      <td>Documentary</td>\n",
              "      <td>0.902933</td>\n",
              "      <td>linearSVC</td>\n",
              "    </tr>\n",
              "    <tr>\n",
              "      <th>9</th>\n",
              "      <td>Adventure</td>\n",
              "      <td>0.907991</td>\n",
              "      <td>linearSVC</td>\n",
              "    </tr>\n",
              "    <tr>\n",
              "      <th>10</th>\n",
              "      <td>SciFi</td>\n",
              "      <td>0.928079</td>\n",
              "      <td>linearSVC</td>\n",
              "    </tr>\n",
              "    <tr>\n",
              "      <th>11</th>\n",
              "      <td>Mystery</td>\n",
              "      <td>0.93871</td>\n",
              "      <td>linearSVC</td>\n",
              "    </tr>\n",
              "    <tr>\n",
              "      <th>12</th>\n",
              "      <td>Fantasy</td>\n",
              "      <td>0.943475</td>\n",
              "      <td>linearSVC</td>\n",
              "    </tr>\n",
              "    <tr>\n",
              "      <th>13</th>\n",
              "      <td>War</td>\n",
              "      <td>0.95154</td>\n",
              "      <td>linearSVC</td>\n",
              "    </tr>\n",
              "    <tr>\n",
              "      <th>14</th>\n",
              "      <td>Children</td>\n",
              "      <td>0.956525</td>\n",
              "      <td>linearSVC</td>\n",
              "    </tr>\n",
              "  </tbody>\n",
              "</table>\n",
              "</div>"
            ],
            "text/plain": [
              "          Genre  accuracy     classifier\n",
              "0           nan  0.279985  multinomialNB\n",
              "1         Drama  0.488856  multinomialNB\n",
              "2        Comedy  0.594575  multinomialNB\n",
              "3      Thriller  0.743915  multinomialNB\n",
              "4       Romance  0.745894  multinomialNB\n",
              "5        Action   0.77588  multinomialNB\n",
              "6         Crime  0.811657  multinomialNB\n",
              "7        Horror  0.812757  multinomialNB\n",
              "8   Documentary  0.830865  multinomialNB\n",
              "9     Adventure  0.839076  multinomialNB\n",
              "10        SciFi  0.863123  multinomialNB\n",
              "11      Mystery  0.890689  multinomialNB\n",
              "12      Fantasy   0.88783  multinomialNB\n",
              "13          War  0.896261  multinomialNB\n",
              "14     Children   0.90066  multinomialNB\n",
              "0           nan  0.344795      linearSVC\n",
              "1         Drama  0.541789      linearSVC\n",
              "2        Comedy  0.676613      linearSVC\n",
              "3      Thriller  0.830792      linearSVC\n",
              "4       Romance  0.830865      linearSVC\n",
              "5        Action  0.857478      linearSVC\n",
              "6         Crime  0.880352      linearSVC\n",
              "7        Horror  0.892595      linearSVC\n",
              "8   Documentary  0.902933      linearSVC\n",
              "9     Adventure  0.907991      linearSVC\n",
              "10        SciFi  0.928079      linearSVC\n",
              "11      Mystery   0.93871      linearSVC\n",
              "12      Fantasy  0.943475      linearSVC\n",
              "13          War   0.95154      linearSVC\n",
              "14     Children  0.956525      linearSVC"
            ]
          },
          "metadata": {
            "tags": []
          },
          "execution_count": 64
        }
      ]
    },
    {
      "cell_type": "code",
      "metadata": {
        "id": "5wAR2FdPlZ0j",
        "colab_type": "code",
        "outputId": "ef2b35c6-ae2b-4d29-8d77-0bd9debc3784",
        "colab": {
          "base_uri": "https://localhost:8080/",
          "height": 973
        }
      },
      "source": [
        "sns.set(rc={'figure.figsize':(18,10)})\n",
        "sns.set(style=\"whitegrid\")\n",
        "s = sns.barplot(x=\"Genre\", y=\"accuracy\", hue=\"classifier\", data=accu_mnb_svc) #.set_title('Movies genre classification accuracy (multinomialNB VS LinearSVC)')\n",
        "s.set_title('Movies genre classification accuracy (multinomialNB VS LinearSVC)', size=16)\n",
        "s.set_xticklabels(list(mainGenres) ,rotation=45, size=15)"
      ],
      "execution_count": 65,
      "outputs": [
        {
          "output_type": "execute_result",
          "data": {
            "text/plain": [
              "[Text(0, 0, 'nan'),\n",
              " Text(0, 0, 'Drama'),\n",
              " Text(0, 0, 'Comedy'),\n",
              " Text(0, 0, 'Thriller'),\n",
              " Text(0, 0, 'Romance'),\n",
              " Text(0, 0, 'Action'),\n",
              " Text(0, 0, 'Crime'),\n",
              " Text(0, 0, 'Horror'),\n",
              " Text(0, 0, 'Documentary'),\n",
              " Text(0, 0, 'Adventure'),\n",
              " Text(0, 0, 'SciFi'),\n",
              " Text(0, 0, 'Mystery'),\n",
              " Text(0, 0, 'Fantasy'),\n",
              " Text(0, 0, 'War'),\n",
              " Text(0, 0, 'Children')]"
            ]
          },
          "metadata": {
            "tags": []
          },
          "execution_count": 65
        },
        {
          "output_type": "display_data",
          "data": {
            "image/png": "[encoded data removed]",
            "text/plain": [
              "<Figure size 1296x720 with 1 Axes>"
            ]
          },
          "metadata": {
            "tags": []
          }
        }
      ]
    },
    {
      "cell_type": "markdown",
      "metadata": {
        "id": "6dxl07YmubvX",
        "colab_type": "text"
      },
      "source": [
        ""
      ]
    },
    {
      "cell_type": "code",
      "metadata": {
        "id": "CGg3lUw_mN6f",
        "colab_type": "code",
        "outputId": "3aaaa9e8-6a07-4775-f42e-b8824c402d7e",
        "colab": {
          "base_uri": "https://localhost:8080/",
          "height": 33
        }
      },
      "source": [
        "len(mainGenres)"
      ],
      "execution_count": 66,
      "outputs": [
        {
          "output_type": "execute_result",
          "data": {
            "text/plain": [
              "15"
            ]
          },
          "metadata": {
            "tags": []
          },
          "execution_count": 66
        }
      ]
    },
    {
      "cell_type": "code",
      "metadata": {
        "id": "yoJ9y5UkmN4X",
        "colab_type": "code",
        "colab": {}
      },
      "source": [
        ""
      ],
      "execution_count": 0,
      "outputs": []
    },
    {
      "cell_type": "code",
      "metadata": {
        "id": "baLdzZj9mN26",
        "colab_type": "code",
        "colab": {}
      },
      "source": [
        ""
      ],
      "execution_count": 0,
      "outputs": []
    },
    {
      "cell_type": "code",
      "metadata": {
        "id": "DWnRKmiSmNzO",
        "colab_type": "code",
        "colab": {}
      },
      "source": [
        ""
      ],
      "execution_count": 0,
      "outputs": []
    },
    {
      "cell_type": "code",
      "metadata": {
        "id": "zi_LfiyUmNwZ",
        "colab_type": "code",
        "colab": {}
      },
      "source": [
        ""
      ],
      "execution_count": 0,
      "outputs": []
    }
  ]
}