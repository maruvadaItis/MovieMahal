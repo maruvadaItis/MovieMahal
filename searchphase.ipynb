{
  "nbformat": 4,
  "nbformat_minor": 0,
  "metadata": {
    "colab": {
      "name": "searchphase",
      "provenance": [],
      "collapsed_sections": [],
      "include_colab_link": true
    },
    "kernelspec": {
      "name": "python3",
      "display_name": "Python 3"
    }
  },
  "cells": [
    {
      "cell_type": "markdown",
      "metadata": {
        "id": "view-in-github",
        "colab_type": "text"
      },
      "source": [
        "<a href=\"https://colab.research.google.com/github/maruvadaItis/MovieMahal/blob/master/searchphase.ipynb\" target=\"_parent\"><img src=\"https://colab.research.google.com/assets/colab-badge.svg\" alt=\"Open In Colab\"/></a>"
      ]
    },
    {
      "cell_type": "code",
      "metadata": {
        "id": "OtJ3SK3sZnwS",
        "colab_type": "code",
        "colab": {}
      },
      "source": [
        "import pandas as pd\n",
        "import numpy as np\n",
        "\n",
        "from sklearn.metrics.pairwise import cosine_similarity\n",
        "from sklearn.feature_extraction.text import CountVectorizer,ENGLISH_STOP_WORDS\n",
        "from ast import literal_eval\n",
        "from sklearn.metrics.pairwise import linear_kernel\n",
        "from matplotlib.pyplot import figure, gca, xlabel, barh, title\n",
        "from sklearn.feature_extraction.text import TfidfVectorizer\n",
        "from sklearn.feature_extraction.stop_words import ENGLISH_STOP_WORDS\n",
        "\n",
        "from nltk.stem import WordNetLemmatizer\n",
        "\n"
      ],
      "execution_count": 0,
      "outputs": []
    },
    {
      "cell_type": "code",
      "metadata": {
        "id": "4bOsSZYcZ3LE",
        "colab_type": "code",
        "colab": {
          "base_uri": "https://localhost:8080/",
          "height": 150
        },
        "outputId": "8cc7f997-f233-4843-aba4-2c0660e44f0a"
      },
      "source": [
        "lv1 = pd.read_csv('tmdb_5000_credits.csv')\n",
        "lv2 = pd.read_csv('tmdb_5000_movies.csv')\n",
        "lv1.columns = ['id', 'tittle', 'cast', 'crew']\n",
        "lv2 = lv2.merge(lv1, on='id')\n",
        "print(lv2.head(5))"
      ],
      "execution_count": 212,
      "outputs": [
        {
          "output_type": "stream",
          "text": [
            "      budget  ...                                               crew\n",
            "0  237000000  ...  [{\"credit_id\": \"52fe48009251416c750aca23\", \"de...\n",
            "1  300000000  ...  [{\"credit_id\": \"52fe4232c3a36847f800b579\", \"de...\n",
            "2  245000000  ...  [{\"credit_id\": \"54805967c3a36829b5002c41\", \"de...\n",
            "3  250000000  ...  [{\"credit_id\": \"52fe4781c3a36847f81398c3\", \"de...\n",
            "4  260000000  ...  [{\"credit_id\": \"52fe479ac3a36847f813eaa3\", \"de...\n",
            "\n",
            "[5 rows x 23 columns]\n"
          ],
          "name": "stdout"
        }
      ]
    },
    {
      "cell_type": "code",
      "metadata": {
        "id": "TpxKxSyNZ3Is",
        "colab_type": "code",
        "colab": {
          "base_uri": "https://localhost:8080/",
          "height": 33
        },
        "outputId": "3a41f810-0b93-485a-8217-212c4669286d"
      },
      "source": [
        "C = lv2['vote_average'].mean()\n",
        "print(C)"
      ],
      "execution_count": 213,
      "outputs": [
        {
          "output_type": "stream",
          "text": [
            "6.092171559442011\n"
          ],
          "name": "stdout"
        }
      ]
    },
    {
      "cell_type": "code",
      "metadata": {
        "id": "zlW78BWTZ3EJ",
        "colab_type": "code",
        "colab": {
          "base_uri": "https://localhost:8080/",
          "height": 33
        },
        "outputId": "01a40fb9-df82-41dc-f54b-9646fa47c67b"
      },
      "source": [
        "m = lv2['vote_count'].quantile(0.9)\n",
        "print(m)"
      ],
      "execution_count": 214,
      "outputs": [
        {
          "output_type": "stream",
          "text": [
            "1838.4000000000015\n"
          ],
          "name": "stdout"
        }
      ]
    },
    {
      "cell_type": "code",
      "metadata": {
        "id": "HhjGStzWZ3Bt",
        "colab_type": "code",
        "colab": {
          "base_uri": "https://localhost:8080/",
          "height": 234
        },
        "outputId": "4e7d563c-b316-4f21-9b00-da728251db2b"
      },
      "source": [
        "def weighted_rating(x, m=m, C=C):\n",
        "    v = x['vote_count']\n",
        "    R = x['vote_average']\n",
        "\n",
        "    return (v / (v + m) * R) + (m / (m + v) * C)\n",
        "\n",
        "lv2['score'] = lv2.apply(weighted_rating, axis=1)\n",
        "lv2 = lv2.sort_values('score', ascending=False)\n",
        "print(lv2[['title', 'vote_count', 'vote_average', 'score']].head(10))"
      ],
      "execution_count": 225,
      "outputs": [
        {
          "output_type": "stream",
          "text": [
            "                                           title  ...     score\n",
            "0                       The Shawshank Redemption  ...  8.059258\n",
            "1                                     Fight Club  ...  7.939256\n",
            "2                                The Dark Knight  ...  7.920020\n",
            "3                                   Pulp Fiction  ...  7.904645\n",
            "4                                      Inception  ...  7.863239\n",
            "5                                  The Godfather  ...  7.851236\n",
            "6                                   Interstellar  ...  7.809479\n",
            "7                                   Forrest Gump  ...  7.803188\n",
            "8  The Lord of the Rings: The Return of the King  ...  7.727243\n",
            "9                        The Empire Strikes Back  ...  7.697884\n",
            "\n",
            "[10 rows x 4 columns]\n"
          ],
          "name": "stdout"
        }
      ]
    },
    {
      "cell_type": "code",
      "metadata": {
        "id": "XybeLzpgZ2wX",
        "colab_type": "code",
        "colab": {
          "base_uri": "https://localhost:8080/",
          "height": 513
        },
        "outputId": "196a4412-9796-4430-81db-104afc969b7e"
      },
      "source": [
        "pop = lv2.sort_values('popularity', ascending=False)\n",
        "figure(figsize=(12, 4))\n",
        "barh(pop['title'].head(10), pop['popularity'].head(10), align='center', color='orange')\n",
        "gca().invert_yaxis()\n",
        "print(xlabel(\"Popularity\"))\n",
        "print(title(\"Popular Movies\"))\n",
        "print(lv2['overview'].head(10))"
      ],
      "execution_count": 224,
      "outputs": [
        {
          "output_type": "stream",
          "text": [
            "Text(0.5, 0, 'Popularity')\n",
            "Text(0.5, 1.0, 'Popular Movies')\n",
            "0    Framed in the 1940s for the double murder of h...\n",
            "1    A ticking-time-bomb insomniac and a slippery s...\n",
            "2    Batman raises the stakes in his war on crime. ...\n",
            "3    A burger-loving hit man, his philosophical par...\n",
            "4    Cobb, a skilled thief who commits corporate es...\n",
            "5    Spanning the years 1945 to 1955, a chronicle o...\n",
            "6    Interstellar chronicles the adventures of a gr...\n",
            "7    A man with a low IQ has accomplished great thi...\n",
            "8    Aragorn is revealed as the heir to the ancient...\n",
            "9    The epic saga continues as Luke Skywalker, in ...\n",
            "Name: overview, dtype: object\n"
          ],
          "name": "stdout"
        },
        {
          "output_type": "display_data",
          "data": {
            "image/png": "[encoded data removed]",
            "text/plain": [
              "<Figure size 864x288 with 1 Axes>"
            ]
          },
          "metadata": {
            "tags": []
          }
        }
      ]
    },
    {
      "cell_type": "code",
      "metadata": {
        "id": "CNR6448GZ2uc",
        "colab_type": "code",
        "colab": {
          "base_uri": "https://localhost:8080/",
          "height": 33
        },
        "outputId": "96e0cb3b-3dcc-4182-ad80-0444a1e05479"
      },
      "source": [
        "tfidf = TfidfVectorizer(stop_words=\"english\")\n",
        "lv2['overview'] = lv2['overview'].fillna('')\n",
        "tfidf_matrix = tfidf.fit_transform(lv2['overview'])\n",
        "print(tfidf_matrix.shape)\n",
        "cosine_sim = linear_kernel(tfidf_matrix, tfidf_matrix)\n",
        "indices = pd.Series(lv2.index, index=lv2['title']).drop_duplicates()"
      ],
      "execution_count": 217,
      "outputs": [
        {
          "output_type": "stream",
          "text": [
            "(4803, 20978)\n"
          ],
          "name": "stdout"
        }
      ]
    },
    {
      "cell_type": "code",
      "metadata": {
        "id": "eArAj26xZ2sK",
        "colab_type": "code",
        "colab": {}
      },
      "source": [
        "def remove_stop_words(tokens):\n",
        "    all_tokens = tokens.split(\" \")\n",
        "    stop_words = ENGLISH_STOP_WORDS\n",
        "    lemmatizer = WordNetLemmatizer()\n",
        "\n",
        "    tokens_without_stop_words = [x for x in all_tokens if x not in stop_words]\n",
        "\n",
        "    tokens_after_preprocess = []\n",
        "    print(tokens_without_stop_words)\n",
        "    for word in tokens_without_stop_words:\n",
        "        print(\"LOLWA: \",word)\n",
        "        tokens_after_preprocess.append(lemmatizer.lemmatize(word))\n",
        "\n",
        "    return tokens_after_preprocess\n"
      ],
      "execution_count": 0,
      "outputs": []
    },
    {
      "cell_type": "code",
      "metadata": {
        "id": "m2Jxonp0Z2p2",
        "colab_type": "code",
        "colab": {}
      },
      "source": [
        "def get_movierecomm(title, cosine_sim=cosine_sim):\n",
        "    print(\"DEB : \" , title,\"\\n Type : \", type(indices))\n",
        "    # # title = remove_stop_words(title)\n",
        "    # temp = indices[indices['title'].str.contains(title)]\n",
        "    if title in indices:\n",
        "      idx = indices[title]\n",
        "      sim_scores = list(enumerate(cosine_sim[idx]))\n",
        "      sim_scores = sorted(sim_scores, key=lambda x: x[1], reverse=True)\n",
        "      sim_scores = sim_scores[1:11]\n",
        "      \n",
        "      movie_indices = [i[0] for i in sim_scores]\n",
        "      return lv2['title'].iloc[movie_indices]\n",
        "\n",
        "    else:\n",
        "      df = pd.DataFrame(indices).reset_index()[[\"title\"]]\n",
        "      temp = df[df['title'].str.contains(title)][\"title\"].iloc[0]\n",
        "      return get_movierecomm(temp)"
      ],
      "execution_count": 0,
      "outputs": []
    },
    {
      "cell_type": "code",
      "metadata": {
        "id": "8TpWb9PCZ2nU",
        "colab_type": "code",
        "colab": {
          "base_uri": "https://localhost:8080/",
          "height": 251
        },
        "outputId": "142167e0-93a8-41e2-e6b5-71fe92e8eb15"
      },
      "source": [
        "features = ['cast', 'crew', 'keywords', 'genres','production_companies']\n",
        "for feature in features:\n",
        "    lv2[feature] = lv2[feature].apply(literal_eval)\n",
        "\n",
        "def get_director(x):\n",
        "    for i in x:\n",
        "        if i['job'] == 'Director':\n",
        "            return i['name']\n",
        "    return np.nan\n",
        "\n",
        "def get_list(x):\n",
        "    if isinstance(x, list):\n",
        "        names = [i['name'] for i in x]\n",
        "        if len(names) > 3:\n",
        "            names = names[:3]\n",
        "        return names\n",
        "    return []\n",
        "lv2['director'] = lv2['crew'].apply(get_director)\n",
        "features = ['cast', 'keywords', 'genres','production_companies']\n",
        "for feature in features:\n",
        "    lv2[feature] = lv2[feature].apply(get_list)\n",
        "def clean_data(x):\n",
        "    if isinstance(x, list):\n",
        "        return [str.lower(i.replace(\" \", \"\")) for i in x]\n",
        "    else:\n",
        "\n",
        "        if isinstance(x, str):\n",
        "            return str.lower(x.replace(\" \", \"\"))\n",
        "        else:\n",
        "            return ''\n",
        "features = ['cast', 'keywords', 'director', 'genres','production_companies']\n",
        "\n",
        "for feature in features:\n",
        "    lv2[feature] = lv2[feature].apply(clean_data)\n",
        "def create_soup(x):\n",
        "    return ' '.join(x['keywords']) + ' ' + ' '.join(x['cast']) + ' ' + x['director'] + ' ' + ' '.join(x['genres']) + ' ' + ' '.join(x['production_companies'])\n",
        "lv2['soup'] = lv2.apply(create_soup, axis=1)\n",
        "count = CountVectorizer(stop_words='english')\n",
        "count_matrix = count.fit_transform(lv2['soup'])\n",
        "\n",
        "cosine_sim2 = cosine_similarity(count_matrix, count_matrix)\n",
        "lv2 = lv2.reset_index()\n",
        "indices = pd.Series(lv2.index, index=lv2['title'])\n",
        "# indices = pd.DataFrame(indices).reset_index()[[\"title\"]]\n",
        "inputde = input(\"Enter the movie name:\")\n",
        "\n",
        "print(get_movierecomm(inputde,cosine_sim2))\n",
        "# remove_stop_words(inputde)"
      ],
      "execution_count": 220,
      "outputs": [
        {
          "output_type": "stream",
          "text": [
            "Enter the movie name:Iron Man\n",
            "DEB :  Iron Man \n",
            " Type :  <class 'pandas.core.series.Series'>\n",
            "451                              Iron Man 2\n",
            "279                              Iron Man 3\n",
            "68                             The Avengers\n",
            "128                 Avengers: Age of Ultron\n",
            "173              Captain America: Civil War\n",
            "213                                 Ant-Man\n",
            "447      Captain America: The First Avenger\n",
            "64      Captain America: The Winter Soldier\n",
            "2915                    The Helix... Loaded\n",
            "1090                           TRON: Legacy\n",
            "Name: title, dtype: object\n"
          ],
          "name": "stdout"
        }
      ]
    },
    {
      "cell_type": "code",
      "metadata": {
        "id": "uisUh9PVZ2k2",
        "colab_type": "code",
        "colab": {}
      },
      "source": [
        ""
      ],
      "execution_count": 0,
      "outputs": []
    },
    {
      "cell_type": "code",
      "metadata": {
        "id": "h042v4iqZ2h1",
        "colab_type": "code",
        "colab": {}
      },
      "source": [
        ""
      ],
      "execution_count": 0,
      "outputs": []
    },
    {
      "cell_type": "code",
      "metadata": {
        "id": "KWM6Vq6rbdV7",
        "colab_type": "code",
        "colab": {}
      },
      "source": [
        ""
      ],
      "execution_count": 0,
      "outputs": []
    },
    {
      "cell_type": "code",
      "metadata": {
        "id": "hd791BJzbdT4",
        "colab_type": "code",
        "colab": {}
      },
      "source": [
        ""
      ],
      "execution_count": 0,
      "outputs": []
    },
    {
      "cell_type": "code",
      "metadata": {
        "id": "--o7ktOObdRY",
        "colab_type": "code",
        "colab": {}
      },
      "source": [
        ""
      ],
      "execution_count": 0,
      "outputs": []
    },
    {
      "cell_type": "code",
      "metadata": {
        "id": "lfD1jBnybdPI",
        "colab_type": "code",
        "colab": {}
      },
      "source": [
        ""
      ],
      "execution_count": 0,
      "outputs": []
    },
    {
      "cell_type": "code",
      "metadata": {
        "id": "wn0F7JrxbdMb",
        "colab_type": "code",
        "colab": {}
      },
      "source": [
        ""
      ],
      "execution_count": 0,
      "outputs": []
    }
  ]
}